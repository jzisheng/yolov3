{
 "cells": [
  {
   "cell_type": "code",
   "execution_count": 94,
   "metadata": {},
   "outputs": [],
   "source": [
    "import argparse\n",
    "import json\n",
    "\n",
    "from torch.utils.data import DataLoader\n",
    "\n",
    "from models import *\n",
    "from utils.datasets import *\n",
    "from utils.utils import *\n",
    "\n",
    "\n",
    "def test(cfg,\n",
    "         data,\n",
    "         weights=None,\n",
    "         batch_size=16,\n",
    "         img_size=416,\n",
    "         conf_thres=0.001,\n",
    "         iou_thres=0.5,  # for nms\n",
    "         save_json=False,\n",
    "         single_cls=False,\n",
    "         model=None,\n",
    "         dataloader=None):\n",
    "    print(weights)\n",
    "    device = torch_utils.select_device('', batch_size=batch_size)\n",
    "    verbose = True\n",
    "    # Remove previous\n",
    "    for f in glob.glob('test_batch*.jpg'):\n",
    "        os.remove(f)\n",
    "\n",
    "    # Initialize model\n",
    "    model = Darknet(cfg, img_size).to(device)\n",
    "    print(weights)\n",
    "    # Load weights\n",
    "    attempt_download(weights)\n",
    "    if weights.endswith('.pt'):  # pytorch format\n",
    "        model.load_state_dict(torch.load(weights, map_location=device)['model'])\n",
    "    else:  # darknet format\n",
    "        load_darknet_weights(model, weights)\n",
    "\n",
    "    if torch.cuda.device_count() > 1:\n",
    "        model = nn.DataParallel(model)\n",
    "    data = parse_data_cfg(data)\n",
    "    nc = 1 if single_cls else int(data['classes'])  # number of classes\n",
    "    path = data['valid']  # path to test images\n",
    "    #path = data['test']  # path to test images\n",
    "    names = load_classes(data['names'])  # class names\n",
    "    #iouv = torch.linspace(0.5, 0.95, 10).to(device)  # iou vector for mAP@0.5:0.95\n",
    "    iouv = torch.linspace(0.25, 0.95, 10).to(device)  # iou vector for mAP@0.5:0.95\n",
    "    iouv = iouv[0].view(1)  # comment for mAP@0.5:0.95\n",
    "    niou = iouv.numel()\n",
    "\n",
    "    # Dataloader\n",
    "    if dataloader is None:\n",
    "        dataset = LoadImagesAndLabels(path, img_size, batch_size, rect=True)\n",
    "        batch_size = min(batch_size, len(dataset))\n",
    "        dataloader = DataLoader(dataset,\n",
    "                                batch_size=batch_size,\n",
    "                                num_workers=min([os.cpu_count(), \\\n",
    "                                                 batch_size if batch_size > 1 else 0, 8]),\n",
    "                                pin_memory=True,\n",
    "                                collate_fn=dataset.collate_fn)\n",
    "\n",
    "    seen = 0\n",
    "    model.eval()\n",
    "    coco91class = coco80_to_coco91_class()\n",
    "    s = ('%20s' + '%10s' * 6) % ('Class', 'Images', 'Targets', 'P', 'R', 'mAP@0.25', 'F1')\n",
    "    p, r, f1, mp, mr, map, mf1 = 0., 0., 0., 0., 0., 0., 0.\n",
    "    loss = torch.zeros(3)\n",
    "    jdict, stats, ap, ap_class = [], [], [], []\n",
    "    for batch_i, (imgs, targets, paths, shapes) in enumerate(tqdm(dataloader, desc=s)):\n",
    "        if(batch_i>50):\n",
    "            break\n",
    "        imgs = imgs.to(device).float() / 255.0  # uint8 to float32, 0 - 255 to 0.0 - 1.0\n",
    "        targets = targets.to(device)\n",
    "        _, _, height, width = imgs.shape  # batch size, channels, height, width\n",
    "\n",
    "        # Plot images with bounding boxes\n",
    "        if batch_i == 0 and not os.path.exists('test_batch0.png'):\n",
    "            plot_images(imgs=imgs, targets=targets, paths=paths, fname='test_batch0.png')\n",
    "\n",
    "\n",
    "        # Disable gradients\n",
    "        with torch.no_grad():\n",
    "            # Run model\n",
    "            inf_out, train_out = model(imgs)  # inference and training outputs\n",
    "\n",
    "            # Compute loss\n",
    "            if hasattr(model, 'hyp'):  # if model has loss hyperparameters\n",
    "                loss += compute_loss(train_out, targets, model)[1][:3].cpu()  # GIoU, obj, cls\n",
    "\n",
    "            # Run NMS\n",
    "            output = non_max_suppression(inf_out, conf_thres=conf_thres, iou_thres=iou_thres)\n",
    "\n",
    "        # Statistics per image\n",
    "        for si, pred in enumerate(output):\n",
    "            labels = targets[targets[:, 0] == si, 1:]\n",
    "            nl = len(labels)\n",
    "            tcls = labels[:, 0].tolist() if nl else []  # target class\n",
    "            seen += 1\n",
    "\n",
    "            if pred is None:\n",
    "                if nl:\n",
    "                    stats.append((torch.zeros(0, niou, dtype=torch.bool),\n",
    "                                  torch.Tensor(), torch.Tensor(), tcls))\n",
    "                continue\n",
    "\n",
    "            # Append to text file\n",
    "            # with open('test.txt', 'a') as file:\n",
    "            #    [file.write('%11.5g' * 7 % tuple(x) + '\\n') for x in pred]\n",
    "\n",
    "            # Clip boxes to image bounds\n",
    "            clip_coords(pred, (height, width))\n",
    "\n",
    "            # Append to pycocotools JSON dictionary\n",
    "            if save_json:\n",
    "                # [{\"image_id\": 42, \"category_id\": 18, \"bbox\": [258.15, 41.29, 348.26, 243.78],\n",
    "                # \"score\": 0.236}, ...\n",
    "                image_id = int(Path(paths[si]).stem.split('_')[-1])\n",
    "                box = pred[:, :4].clone()  # xyxy\n",
    "                # to original shape\n",
    "                scale_coords(imgs[si].shape[1:], box, shapes[si][0], shapes[si][1])  \n",
    "                box = xyxy2xywh(box)  # xywh\n",
    "                box[:, :2] -= box[:, 2:] / 2  # xy center to top-left corner\n",
    "                for di, d in enumerate(pred):\n",
    "                    jdict.append({'image_id': image_id,\n",
    "                                  'category_id': coco91class[int(d[5])],\n",
    "                                  'bbox': [floatn(x, 3) for x in box[di]],\n",
    "                                  'score': floatn(d[4], 5)})\n",
    "                    pass\n",
    "                pass\n",
    "\n",
    "            # Assign all predictions as incorrect\n",
    "            correct = torch.zeros(len(pred), niou, dtype=torch.bool)\n",
    "            if nl:\n",
    "                detected = []  # target indices\n",
    "                tcls_tensor = labels[:, 0]\n",
    "\n",
    "                # target boxes\n",
    "                tbox = \\\n",
    "                    xywh2xyxy(labels[:, 1:5]) * torch.Tensor([width, height, width, height]).to(device)\n",
    "\n",
    "                # Per target class\n",
    "                for cls in torch.unique(tcls_tensor):\n",
    "                    ti = (cls == tcls_tensor).nonzero().view(-1)  # prediction indices\n",
    "                    pi = (cls == pred[:, 5]).nonzero().view(-1)  # target indices\n",
    "                    # Search for detections\n",
    "                    if len(pi):\n",
    "                        # Prediction to target ious\n",
    "                        ious, i = box_iou(pred[pi, :4], tbox[ti]).max(1)  # best ious, indices\n",
    "                        # Append detections\n",
    "                        for j in (ious > iouv[0]).nonzero():\n",
    "                            d = ti[i[j]]  # detected target\n",
    "                            if d not in detected:\n",
    "                                detected.append(d)\n",
    "                                correct[pi[j]] = (ious[j] > iouv).cpu()  # iou_thres is 1xn\n",
    "                                pass\n",
    "                            pass\n",
    "                        pass\n",
    "            # Append statistics (correct, conf, pcls, tcls)\n",
    "            stats.append((correct, pred[:, 4].cpu(), pred[:, 5].cpu(), tcls))\n",
    "            pass\n",
    "        pass\n",
    "\n",
    "\n",
    "    # Compute statistics\n",
    "    stats = [np.concatenate(x, 0) for x in zip(*stats)]  # to numpy\n",
    "    result = stats\n",
    "    if len(stats):\n",
    "        p, r, ap, f1, ap_class = ap_per_class(*stats)\n",
    "        if niou > 1:\n",
    "            p, r, ap, f1 = p[:, 0], r[:, 0], ap.mean(1), ap[:, 0]  # [P, R, AP@0.5:0.95, AP@0.5]\n",
    "        mp, mr, map, mf1 = p.mean(), r.mean(), ap.mean(), f1.mean()\n",
    "        nt = np.bincount(stats[3].astype(np.int64), minlength=nc)  # number of targets per class\n",
    "    else:\n",
    "        nt = torch.zeros(1)\n",
    "\n",
    "    # Print results\n",
    "    pf = '%20s' + '%10.3g' * 6  # print format\n",
    "    print(pf % ('all', seen, nt.sum(), mp, mr, map, mf1))\n",
    "\n",
    "    # Print results per class\n",
    "    if verbose and nc > 1 and len(stats):\n",
    "        for i, c in enumerate(ap_class):\n",
    "            print(pf % (names[c], seen, nt[c], p[i], r[i], ap[i], f1[i]))\n",
    "\n",
    "    # Save JSON\n",
    "    if save_json and map and len(jdict):\n",
    "        imgIds = [int(Path(x).stem.split('_')[-1]) for x in dataloader.dataset.img_files]\n",
    "        with open('results.json', 'w') as file:\n",
    "            json.dump(jdict, file)\n",
    "\n",
    "        try:\n",
    "            from pycocotools.coco import COCO\n",
    "            from pycocotools.cocoeval import COCOeval\n",
    "        except:\n",
    "            print('WARNING: missing pycocotools package, can not compute official COCO mAP.\\\n",
    "            See requirements.txt.')\n",
    "    # Return results\n",
    "    maps = np.zeros(nc) + map\n",
    "    for i, c in enumerate(ap_class):\n",
    "        maps[c] = ap[i]\n",
    "    return result"
   ]
  },
  {
   "cell_type": "code",
   "execution_count": 95,
   "metadata": {},
   "outputs": [],
   "source": [
    "def my_ap_per_class(tp, conf, pred_cls, target_cls):\n",
    "    \"\"\" Compute the average precision, given the recall and precision curves.\n",
    "    Source: https://github.com/rafaelpadilla/Object-Detection-Metrics.\n",
    "    # Arguments\n",
    "        tp:    True positives (nparray, nx1 or nx10).\n",
    "        conf:  Objectness value from 0-1 (nparray).\n",
    "        pred_cls: Predicted object classes (nparray).\n",
    "        target_cls: True object classes (nparray).\n",
    "    # Returns\n",
    "        The average precision as computed in py-faster-rcnn.\n",
    "    \"\"\"\n",
    "    labels = [\"buildings\" ,\"small aircraft\", \n",
    "          \"large aircraft\",\"vehicles\",\"bus\",\"boat\"]\n",
    "\n",
    "    # Sort by objectness\n",
    "    i = np.argsort(-conf)\n",
    "    tp, conf, pred_cls = tp[i], conf[i], pred_cls[i]\n",
    "\n",
    "    # Find unique classes\n",
    "    unique_classes = np.unique(target_cls)\n",
    "    # Create Precision-Recall curve and compute AP for each class\n",
    "    # number class, number iou thresholds (i.e. 10 for mAP0.5...0.95)\n",
    "    s = [len(unique_classes), tp.shape[1]]  \n",
    "    ap, p, r = np.zeros(s), np.zeros(s), np.zeros(s)\n",
    "    plt.figure(dpi=80,figsize=(5,5))\n",
    "    print(\"{:15},{:10},{:10},{:10},{:10},{:10}\".format(\"label\",\"    n_gt\",\"  n_preds\",\n",
    "                                                 \"    tp\",\"     fp\",\"  mAP@0.25\"))\n",
    "    for ci, c in enumerate(unique_classes):\n",
    "        i = pred_cls == c\n",
    "        n_gt = (target_cls == c).sum()  # Number of ground truth objects\n",
    "        n_p = i.sum()  # Number of predicted objects\n",
    "        if n_p == 0 or n_gt == 0:\n",
    "            continue\n",
    "        else:\n",
    "            # Accumulate FPs and TPs\n",
    "            fpc = (1 - tp[i]).cumsum(0)\n",
    "            tpc = tp[i].cumsum(0)\n",
    "            \n",
    "            \n",
    "            tp_sum = tp[i].sum(0)\n",
    "            fp_sum = (1 - tp[i]).sum(0)\n",
    "            print(\"{:15},{:10},{:10},{:10},{:10},{:10}\".format(labels[int(c)],n_gt,len(tp[i]),\n",
    "                                                   int(tp_sum),int(fp_sum), str(tp_sum/(tp_sum+fp_sum) ) ))\n",
    "            \n",
    "            # Recall\n",
    "            recall = tpc / (n_gt + 1e-16)  # recall curve\n",
    "            r[ci] = recall[-1]\n",
    "            # Precision\n",
    "            precision = tpc / (tpc + fpc)  # precision curve\n",
    "            p[ci] = precision[-1]\n",
    "            \n",
    "            # AP from recall-precision curve\n",
    "            for j in range(tp.shape[1]):\n",
    "                ap[ci, j] = compute_ap(recall[:, j], precision[:, j])\n",
    "            # Plot\n",
    "\n",
    "            plt.plot(recall,precision,label=labels[int(c)])\n",
    "            plt.xlabel('Recall')\n",
    "            plt.ylabel('Precision')\n",
    "            plt.title(\"model performance\")\n",
    "            plt.xlim(0,1)\n",
    "            plt.xlim(0,1)\n",
    "            pass\n",
    "        pass\n",
    "    plt.legend()\n",
    "    plt.show()\n",
    "\n",
    "\n",
    "    # Compute F1 score (harmonic mean of precision and recall)\n",
    "    f1 = 2 * p * r / (p + r + 1e-16)\n",
    "\n",
    "    return p, r, ap, f1, unique_classes.astype('int32')"
   ]
  },
  {
   "cell_type": "markdown",
   "metadata": {},
   "source": [
    "## Evaluation of 30cm performance"
   ]
  },
  {
   "cell_type": "code",
   "execution_count": 96,
   "metadata": {},
   "outputs": [
    {
     "name": "stdout",
     "output_type": "stream",
     "text": [
      "weights/best-30.pt\n",
      "Using CUDA device0 _CudaDeviceProperties(name='GeForce GTX 1080 Ti', total_memory=11178MB)\n",
      "           device1 _CudaDeviceProperties(name='GeForce GTX 1080 Ti', total_memory=11177MB)\n",
      "\n"
     ]
    },
    {
     "name": "stderr",
     "output_type": "stream",
     "text": [
      "\n",
      "\n",
      "\n",
      "\n",
      "\n",
      "\n",
      "               Class    Images   Targets         P         R  mAP@0.25        F1:   0%|          | 0/1 [00:00<?, ?it/s]\u001b[A\u001b[A\u001b[A\u001b[A\u001b[A\u001b[A"
     ]
    },
    {
     "name": "stdout",
     "output_type": "stream",
     "text": [
      "weights/best-30.pt\n"
     ]
    },
    {
     "name": "stderr",
     "output_type": "stream",
     "text": [
      "\n",
      "\n",
      "\n",
      "\n",
      "\n",
      "\n",
      "               Class    Images   Targets         P         R  mAP@0.25        F1: 100%|██████████| 1/1 [00:53<00:00, 53.70s/it]\u001b[A\u001b[A\u001b[A\u001b[A\u001b[A\u001b[A\n"
     ]
    },
    {
     "name": "stdout",
     "output_type": "stream",
     "text": [
      "                 all        32  2.17e+04     0.109     0.254     0.208     0.115\n",
      "                 b&f        32  1.31e+04     0.446     0.453     0.347      0.45\n",
      "                  sa        32         1         0         0         0         0\n",
      "                  la        32        22     0.061     0.955     0.857     0.115\n",
      "                 veh        32  6.99e+03         0         0         0         0\n",
      "                 bus        32  1.19e+03    0.0258    0.0118   0.00528    0.0162\n",
      "                boat        32       344     0.122     0.102    0.0401     0.111\n"
     ]
    }
   ],
   "source": [
    "# Test\n",
    "stats = test(cfg='cfg/yolov3-spp.cfg',\n",
    "         data='/data/zjc4/chipped-30/xview_data.txt',\n",
    "         weights='weights/best-30.pt',\n",
    "         batch_size=32,\n",
    "         img_size=416,\n",
    "         conf_thres=0.001,\n",
    "         iou_thres=0.25,\n",
    "         save_json=True)\n"
   ]
  },
  {
   "cell_type": "code",
   "execution_count": 97,
   "metadata": {},
   "outputs": [
    {
     "name": "stdout",
     "output_type": "stream",
     "text": [
      "label          ,    n_gt  ,  n_preds ,    tp    ,     fp   ,  mAP@0.25\n",
      "buildings      ,     13114,     13321,      5946,      7375,[    0.44636]\n",
      "small aircraft ,         1,        24,         0,        24,[          0]\n",
      "large aircraft ,        22,       344,        21,       323,[   0.061047]\n",
      "vehicles       ,      6988,        63,         0,        63,[          0]\n",
      "bus            ,      1189,       542,        14,       528,[    0.02583]\n",
      "boat           ,       344,       287,        35,       252,[    0.12195]\n"
     ]
    },
    {
     "data": {
      "image/png": "[encoded data removed]",
      "text/plain": [
       "<Figure size 400x400 with 1 Axes>"
      ]
     },
     "metadata": {
      "needs_background": "light"
     },
     "output_type": "display_data"
    }
   ],
   "source": [
    "p, r, ap, f1, ap_class = my_ap_per_class(*stats)"
   ]
  },
  {
   "cell_type": "code",
   "execution_count": 99,
   "metadata": {},
   "outputs": [
    {
     "data": {
      "text/plain": [
       "array([[    0.44636],\n",
       "       [          0],\n",
       "       [   0.061047],\n",
       "       [          0],\n",
       "       [    0.02583],\n",
       "       [    0.12195]])"
      ]
     },
     "execution_count": 99,
     "metadata": {},
     "output_type": "execute_result"
    }
   ],
   "source": [
    "p"
   ]
  },
  {
   "cell_type": "code",
   "execution_count": 100,
   "metadata": {},
   "outputs": [
    {
     "data": {
      "text/plain": [
       "array([[    0.44636],\n",
       "       [          0],\n",
       "       [   0.061047],\n",
       "       [          0],\n",
       "       [    0.02583],\n",
       "       [    0.12195]])"
      ]
     },
     "execution_count": 100,
     "metadata": {},
     "output_type": "execute_result"
    }
   ],
   "source": [
    "p"
   ]
  },
  {
   "cell_type": "markdown",
   "metadata": {},
   "source": [
    "## Evaluation of 90cm performance"
   ]
  },
  {
   "cell_type": "code",
   "execution_count": 81,
   "metadata": {},
   "outputs": [
    {
     "name": "stdout",
     "output_type": "stream",
     "text": [
      "weights/best-90.pt\n",
      "Using CUDA device0 _CudaDeviceProperties(name='GeForce GTX 1080 Ti', total_memory=11178MB)\n",
      "           device1 _CudaDeviceProperties(name='GeForce GTX 1080 Ti', total_memory=11177MB)\n",
      "\n",
      "weights/best-90.pt\n"
     ]
    },
    {
     "name": "stderr",
     "output_type": "stream",
     "text": [
      "\n",
      "\n",
      "\n",
      "\n",
      "\n",
      "\n",
      "               Class    Images   Targets         P         R  mAP@0.25        F1:   0%|          | 0/2 [00:00<?, ?it/s]\u001b[A\u001b[A\u001b[A\u001b[A\u001b[A\u001b[A\n",
      "\n",
      "\n",
      "\n",
      "\n",
      "\n",
      "               Class    Images   Targets         P         R  mAP@0.25        F1:  50%|█████     | 1/2 [01:44<01:44, 104.63s/it]\u001b[A\u001b[A\u001b[A\u001b[A\u001b[A\u001b[A\n",
      "\n",
      "\n",
      "\n",
      "\n",
      "\n",
      "               Class    Images   Targets         P         R  mAP@0.25        F1: 100%|██████████| 2/2 [01:45<00:00, 52.64s/it] \u001b[A\u001b[A\u001b[A\u001b[A\u001b[A\u001b[A\n"
     ]
    },
    {
     "name": "stdout",
     "output_type": "stream",
     "text": [
      "                 all        34  2.58e+04    0.0716     0.217      0.18    0.0934\n",
      "                 b&f        34  1.22e+04     0.319     0.455     0.356     0.375\n",
      "                  sa        34        55   0.00351    0.0182  8.88e-05   0.00588\n",
      "                  la        34        48    0.0959     0.771     0.671     0.171\n",
      "                 veh        34  1.15e+04         0         0         0         0\n",
      "                 bus        34  1.99e+03    0.0092   0.00352  9.55e-05   0.00509\n",
      "                boat        34        19   0.00194    0.0526     0.055   0.00374\n"
     ]
    }
   ],
   "source": [
    "# Test\n",
    "stats = test(cfg='cfg/yolov3-spp.cfg',\n",
    "         data='/data/zjc4/chipped-90/xview_data.txt',\n",
    "         weights='weights/best-90.pt',\n",
    "         batch_size=32,\n",
    "         img_size=416,\n",
    "         conf_thres=0.001,\n",
    "         iou_thres=0.25,\n",
    "         save_json=True)\n"
   ]
  },
  {
   "cell_type": "code",
   "execution_count": 82,
   "metadata": {},
   "outputs": [
    {
     "name": "stdout",
     "output_type": "stream",
     "text": [
      "label          ,    n_gt  ,  n_preds ,    tp    ,     fp   ,  mAP@0.25\n",
      "buildings      ,     12172,     17348,      5538,     11810,[    0.31923]\n",
      "small aircraft ,        55,       285,         1,       284,[  0.0035088]\n",
      "large aircraft ,        48,       386,        37,       349,[   0.095855]\n",
      "vehicles       ,     11509,        32,         0,        32,[          0]\n",
      "bus            ,      1991,       761,         7,       754,[  0.0091984]\n",
      "boat           ,        19,       516,         1,       515,[   0.001938]\n"
     ]
    },
    {
     "data": {
      "image/png": "[encoded data removed]",
      "text/plain": [
       "<Figure size 400x400 with 1 Axes>"
      ]
     },
     "metadata": {
      "needs_background": "light"
     },
     "output_type": "display_data"
    }
   ],
   "source": [
    "p, r, ap, f1, ap_class = my_ap_per_class(*stats)"
   ]
  },
  {
   "cell_type": "code",
   "execution_count": 83,
   "metadata": {},
   "outputs": [
    {
     "data": {
      "text/plain": [
       "array([[    0.31923],\n",
       "       [  0.0035088],\n",
       "       [   0.095855],\n",
       "       [          0],\n",
       "       [  0.0091984],\n",
       "       [   0.001938]])"
      ]
     },
     "execution_count": 83,
     "metadata": {},
     "output_type": "execute_result"
    }
   ],
   "source": [
    "p"
   ]
  },
  {
   "cell_type": "code",
   "execution_count": 45,
   "metadata": {},
   "outputs": [],
   "source": [
    "import os"
   ]
  },
  {
   "cell_type": "code",
   "execution_count": 51,
   "metadata": {},
   "outputs": [
    {
     "data": {
      "text/plain": [
       "0"
      ]
     },
     "execution_count": 51,
     "metadata": {},
     "output_type": "execute_result"
    }
   ],
   "source": [
    "os.system(\"cp /data/zjc4/chipped-90/data/images/002391_00.jpg /data/zjc4/detect-90/\" )\n",
    "os.system(\"cp /data/zjc4/chipped-30/data/images/002391_00.jpg /data/zjc4/detect-30/\" )"
   ]
  },
  {
   "cell_type": "code",
   "execution_count": 52,
   "metadata": {},
   "outputs": [
    {
     "data": {
      "text/plain": [
       "0"
      ]
     },
     "execution_count": 52,
     "metadata": {},
     "output_type": "execute_result"
    }
   ],
   "source": [
    "(os.system(\"python3 detect.py --weights weights/best-90.pt --source /data/zjc4/detect-90 --output output_90/\"))\n",
    "(os.system(\"python3 detect.py --weights weights/best-30.pt --source /data/zjc4/detect-30 --output output_30/\"))"
   ]
  }
 ],
 "metadata": {
  "kernelspec": {
   "display_name": "Python 3",
   "language": "python",
   "name": "python3"
  },
  "language_info": {
   "codemirror_mode": {
    "name": "ipython",
    "version": 3
   },
   "file_extension": ".py",
   "mimetype": "text/x-python",
   "name": "python",
   "nbconvert_exporter": "python",
   "pygments_lexer": "ipython3",
   "version": "3.6.9"
  }
 },
 "nbformat": 4,
 "nbformat_minor": 4
}
