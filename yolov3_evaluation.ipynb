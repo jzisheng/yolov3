{
 "cells": [
  {
   "cell_type": "raw",
   "metadata": {
    "jupyter": {
     "source_hidden": true
    }
   },
   "source": [
    "import argparse\n",
    "import json\n",
    "\n",
    "from torch.utils.data import DataLoader\n",
    "\n",
    "from models import *\n",
    "from utils.datasets import *\n",
    "from utils.utils import *\n",
    "\n",
    "\n",
    "def my_test(cfg,\n",
    "         data,\n",
    "         weights=None,\n",
    "         batch_size=16,\n",
    "         img_size=416,\n",
    "         conf_thres=0.001,\n",
    "         iou_thres=0.5,  # for nms\n",
    "         save_json=False,\n",
    "         single_cls=False,\n",
    "         model=None,\n",
    "         dataloader=None):\n",
    "    print(weights)\n",
    "    device = torch_utils.select_device('', batch_size=batch_size)\n",
    "    verbose = True\n",
    "    # Remove previous\n",
    "    for f in glob.glob('test_batch*.jpg'):\n",
    "        os.remove(f)\n",
    "\n",
    "    # Initialize model\n",
    "    model = Darknet(cfg, img_size).to(device)\n",
    "    print(weights)\n",
    "    # Load weights\n",
    "    attempt_download(weights)\n",
    "    if weights.endswith('.pt'):  # pytorch format\n",
    "        model.load_state_dict(torch.load(weights, map_location=device)['model'])\n",
    "    else:  # darknet format\n",
    "        load_darknet_weights(model, weights)\n",
    "\n",
    "    if torch.cuda.device_count() > 1:\n",
    "        model = nn.DataParallel(model)\n",
    "    data = parse_data_cfg(data)\n",
    "    nc = 1 if single_cls else int(data['classes'])  # number of classes\n",
    "    path = data['valid']  # path to test images\n",
    "    #path = data['test']  # path to test images\n",
    "    names = load_classes(data['names'])  # class names\n",
    "    #iouv = torch.linspace(0.5, 0.95, 10).to(device)  # iou vector for mAP@0.5:0.95\n",
    "    iouv = torch.linspace(0.25, 0.95, 10).to(device)  # iou vector for mAP@0.5:0.95\n",
    "    iouv = iouv[0].view(1)  # comment for mAP@0.5:0.95\n",
    "    niou = iouv.numel()\n",
    "\n",
    "    # Dataloader\n",
    "    if dataloader is None:\n",
    "        dataset = LoadImagesAndLabels(path, img_size, batch_size, rect=True)\n",
    "        batch_size = min(batch_size, len(dataset))\n",
    "        dataloader = DataLoader(dataset,\n",
    "                                batch_size=batch_size,\n",
    "                                num_workers=min([os.cpu_count(), \\\n",
    "                                                 batch_size if batch_size > 1 else 0, 8]),\n",
    "                                pin_memory=True,\n",
    "                                collate_fn=dataset.collate_fn)\n",
    "\n",
    "    seen = 0\n",
    "    model.eval()\n",
    "    coco91class = coco80_to_coco91_class()\n",
    "    s = ('%20s' + '%10s' * 6) % ('Class', 'Images', 'Targets', 'P', 'R', 'mAP@0.25', 'F1')\n",
    "    p, r, f1, mp, mr, map, mf1 = 0., 0., 0., 0., 0., 0., 0.\n",
    "    loss = torch.zeros(3)\n",
    "    jdict, stats, ap, ap_class = [], [], [], []\n",
    "    for batch_i, (imgs, targets, paths, shapes) in enumerate(tqdm(dataloader, desc=s)):\n",
    "        if(batch_i>50):\n",
    "            break\n",
    "        imgs = imgs.to(device).float() / 255.0  # uint8 to float32, 0 - 255 to 0.0 - 1.0\n",
    "        targets = targets.to(device)\n",
    "        _, _, height, width = imgs.shape  # batch size, channels, height, width\n",
    "\n",
    "        # Plot images with bounding boxes\n",
    "        if batch_i == 0 and not os.path.exists('test_batch0.png'):\n",
    "            plot_images(imgs=imgs, targets=targets, paths=paths, fname='test_batch0.png')\n",
    "\n",
    "\n",
    "        # Disable gradients\n",
    "        with torch.no_grad():\n",
    "            # Run model\n",
    "            inf_out, train_out = model(imgs)  # inference and training outputs\n",
    "\n",
    "            # Compute loss\n",
    "            if hasattr(model, 'hyp'):  # if model has loss hyperparameters\n",
    "                loss += compute_loss(train_out, targets, model)[1][:3].cpu()  # GIoU, obj, cls\n",
    "\n",
    "            # Run NMS\n",
    "            output = non_max_suppression(inf_out, conf_thres=conf_thres, iou_thres=iou_thres)\n",
    "\n",
    "        # Statistics per image\n",
    "        for si, pred in enumerate(output):\n",
    "            labels = targets[targets[:, 0] == si, 1:]\n",
    "            nl = len(labels)\n",
    "            tcls = labels[:, 0].tolist() if nl else []  # target class\n",
    "            seen += 1\n",
    "\n",
    "            if pred is None:\n",
    "                if nl:\n",
    "                    stats.append((torch.zeros(0, niou, dtype=torch.bool),\n",
    "                                  torch.Tensor(), torch.Tensor(), tcls))\n",
    "                continue\n",
    "\n",
    "            # Append to text file\n",
    "            # with open('test.txt', 'a') as file:\n",
    "            #    [file.write('%11.5g' * 7 % tuple(x) + '\\n') for x in pred]\n",
    "\n",
    "            # Clip boxes to image bounds\n",
    "            clip_coords(pred, (height, width))\n",
    "\n",
    "            # Append to pycocotools JSON dictionary\n",
    "            if save_json:\n",
    "                # [{\"image_id\": 42, \"category_id\": 18, \"bbox\": [258.15, 41.29, 348.26, 243.78],\n",
    "                # \"score\": 0.236}, ...\n",
    "                image_id = int(Path(paths[si]).stem.split('_')[-1])\n",
    "                box = pred[:, :4].clone()  # xyxy\n",
    "                # to original shape\n",
    "                scale_coords(imgs[si].shape[1:], box, shapes[si][0], shapes[si][1])  \n",
    "                box = xyxy2xywh(box)  # xywh\n",
    "                box[:, :2] -= box[:, 2:] / 2  # xy center to top-left corner\n",
    "                for di, d in enumerate(pred):\n",
    "                    jdict.append({'image_id': image_id,\n",
    "                                  'category_id': coco91class[int(d[5])],\n",
    "                                  'bbox': [floatn(x, 3) for x in box[di]],\n",
    "                                  'score': floatn(d[4], 5)})\n",
    "                    pass\n",
    "                pass\n",
    "\n",
    "            # Assign all predictions as incorrect\n",
    "            correct = torch.zeros(len(pred), niou, dtype=torch.bool)\n",
    "            if nl:\n",
    "                detected = []  # target indices\n",
    "                tcls_tensor = labels[:, 0]\n",
    "\n",
    "                # target boxes\n",
    "                tbox = \\\n",
    "                    xywh2xyxy(labels[:, 1:5]) * torch.Tensor([width, height, width, height]).to(device)\n",
    "\n",
    "                # Per target class\n",
    "                for cls in torch.unique(tcls_tensor):\n",
    "                    ti = (cls == tcls_tensor).nonzero().view(-1)  # prediction indices\n",
    "                    pi = (cls == pred[:, 5]).nonzero().view(-1)  # target indices\n",
    "                    # Search for detections\n",
    "                    if len(pi):\n",
    "                        # Prediction to target ious\n",
    "                        ious, i = box_iou(pred[pi, :4], tbox[ti]).max(1)  # best ious, indices\n",
    "                        # Append detections\n",
    "                        for j in (ious > iouv[0]).nonzero():\n",
    "                            d = ti[i[j]]  # detected target\n",
    "                            if d not in detected:\n",
    "                                detected.append(d)\n",
    "                                correct[pi[j]] = (ious[j] > iouv).cpu()  # iou_thres is 1xn\n",
    "                                pass\n",
    "                            pass\n",
    "                        pass\n",
    "            # Append statistics (correct, conf, pcls, tcls)\n",
    "            stats.append((correct, pred[:, 4].cpu(), pred[:, 5].cpu(), tcls))\n",
    "            pass\n",
    "        pass\n",
    "\n",
    "\n",
    "    # Compute statistics\n",
    "    stats = [np.concatenate(x, 0) for x in zip(*stats)]  # to numpy\n",
    "    result = stats\n",
    "    if len(stats):\n",
    "        p, r, ap, f1, ap_class = ap_per_class(*stats)\n",
    "        if niou > 1:\n",
    "            p, r, ap, f1 = p[:, 0], r[:, 0], ap.mean(1), ap[:, 0]  # [P, R, AP@0.5:0.95, AP@0.5]\n",
    "        mp, mr, map, mf1 = p.mean(), r.mean(), ap.mean(), f1.mean()\n",
    "        nt = np.bincount(stats[3].astype(np.int64), minlength=nc)  # number of targets per class\n",
    "    else:\n",
    "        nt = torch.zeros(1)\n",
    "\n",
    "    # Print results\n",
    "    pf = '%20s' + '%10.3g' * 6  # print format\n",
    "    print(pf % ('all', seen, nt.sum(), mp, mr, map, mf1))\n",
    "\n",
    "    # Print results per class\n",
    "    if verbose and nc > 1 and len(stats):\n",
    "        for i, c in enumerate(ap_class):\n",
    "            print(pf % (names[c], seen, nt[c], p[i], r[i], ap[i], f1[i]))\n",
    "\n",
    "    # Save JSON\n",
    "    if save_json and map and len(jdict):\n",
    "        imgIds = [int(Path(x).stem.split('_')[-1]) for x in dataloader.dataset.img_files]\n",
    "        with open('results.json', 'w') as file:\n",
    "            json.dump(jdict, file)\n",
    "\n",
    "        try:\n",
    "            from pycocotools.coco import COCO\n",
    "            from pycocotools.cocoeval import COCOeval\n",
    "        except:\n",
    "            print('WARNING: missing pycocotools package, can not compute official COCO mAP.\\\n",
    "            See requirements.txt.')\n",
    "    # Return results\n",
    "    maps = np.zeros(nc) + map\n",
    "    for i, c in enumerate(ap_class):\n",
    "        maps[c] = ap[i]\n",
    "    return result\n",
    "    "
   ]
  },
  {
   "cell_type": "markdown",
   "metadata": {},
   "source": [
    "## Evaluation of 30cm performance"
   ]
  },
  {
   "cell_type": "code",
   "execution_count": 1,
   "metadata": {},
   "outputs": [
    {
     "name": "stdout",
     "output_type": "stream",
     "text": [
      "Using CUDA device0 _CudaDeviceProperties(name='GeForce GTX 1080 Ti', total_memory=11178MB)\n",
      "           device1 _CudaDeviceProperties(name='GeForce GTX 1080 Ti', total_memory=11177MB)\n",
      "\n"
     ]
    },
    {
     "name": "stderr",
     "output_type": "stream",
     "text": [
      "Caching labels (1155 found, 0 missing, 0 empty, 0 duplicate, for 1155 images): 100%|██████████| 1155/1155 [00:00<00:00, 7978.68it/s]\n",
      "               Class    Images   Targets         P         R  mAP@0.25        F1: 100%|██████████| 37/37 [01:08<00:00,  1.85s/it]"
     ]
    },
    {
     "name": "stdout",
     "output_type": "stream",
     "text": [
      "label          ,    n_gt  ,  n_preds ,    tp    ,     fp   ,  mAP@0.25\n",
      "buildings      ,      6749,     66945,      6742,     60203,[    0.10071]\n",
      "small aircraft ,         3,      2245,         0,      2245,[          0]\n",
      "large aircraft ,         6,      4602,         1,      4601,[  0.0002173]\n",
      "vehicles       ,      9117,     83669,      7803,     75866,[    0.09326]\n",
      "bus            ,      1358,     35135,       953,     34182,[   0.027124]\n",
      "boat           ,        35,         1,         0,         1,[          0]\n"
     ]
    },
    {
     "name": "stderr",
     "output_type": "stream",
     "text": [
      "\n"
     ]
    },
    {
     "data": {
      "text/plain": [
       "<Figure size 400x400 with 1 Axes>"
      ]
     },
     "metadata": {},
     "output_type": "display_data"
    }
   ],
   "source": [
    "# Test\n",
    "import test as test\n",
    "import imp\n",
    "imp.reload(test)\n",
    "\n",
    "\n",
    "stats = test.my_test(cfg='cfg/yolov3-spp.cfg',\n",
    "         data='/data/zjc4/chipped-30/xview_data.txt',\n",
    "         weights='weights/best-30.pt',\n",
    "         batch_size=32,\n",
    "         img_size=416,\n",
    "         conf_thres=0.001,\n",
    "         iou_thres=0.25,\n",
    "         save_json=True)\n"
   ]
  },
  {
   "cell_type": "code",
   "execution_count": 2,
   "metadata": {},
   "outputs": [
    {
     "name": "stdout",
     "output_type": "stream",
     "text": [
      "label          ,    n_gt  ,  n_preds ,    tp    ,     fp   ,  mAP@0.25\n",
      "buildings      ,      6749,     66945,      6742,     60203,[    0.10071]\n",
      "small aircraft ,         3,      2245,         0,      2245,[          0]\n",
      "large aircraft ,         6,      4602,         1,      4601,[  0.0002173]\n",
      "vehicles       ,      9117,     83669,      7803,     75866,[    0.09326]\n",
      "bus            ,      1358,     35135,       953,     34182,[   0.027124]\n",
      "boat           ,        35,         1,         0,         1,[          0]\n"
     ]
    },
    {
     "data": {
      "image/png": "[encoded data removed]",
      "text/plain": [
       "<Figure size 400x400 with 1 Axes>"
      ]
     },
     "metadata": {
      "needs_background": "light"
     },
     "output_type": "display_data"
    }
   ],
   "source": [
    "p, r, ap, f1, ap_class = test.my_ap_per_class(*stats)"
   ]
  },
  {
   "cell_type": "code",
   "execution_count": null,
   "metadata": {},
   "outputs": [],
   "source": []
  },
  {
   "cell_type": "markdown",
   "metadata": {},
   "source": [
    "## Evaluation of 90cm performance"
   ]
  },
  {
   "cell_type": "code",
   "execution_count": 5,
   "metadata": {},
   "outputs": [
    {
     "name": "stdout",
     "output_type": "stream",
     "text": [
      "Using CUDA device0 _CudaDeviceProperties(name='GeForce GTX 1080 Ti', total_memory=11178MB)\n",
      "           device1 _CudaDeviceProperties(name='GeForce GTX 1080 Ti', total_memory=11177MB)\n",
      "\n"
     ]
    },
    {
     "name": "stderr",
     "output_type": "stream",
     "text": [
      "Caching labels (171 found, 0 missing, 0 empty, 0 duplicate, for 171 images): 100%|██████████| 171/171 [00:00<00:00, 2534.02it/s]\n",
      "               Class    Images   Targets         P         R  mAP@0.25        F1: 100%|██████████| 6/6 [00:30<00:00,  5.07s/it]\n"
     ]
    },
    {
     "name": "stdout",
     "output_type": "stream",
     "text": [
      "label          ,    n_gt  ,  n_preds ,    tp    ,     fp   ,  mAP@0.25\n",
      "buildings      ,      2292,     38571,      3233,     35338,[   0.083819]\n",
      "small aircraft ,         2,      2399,         3,      2396,[  0.0012505]\n",
      "large aircraft ,         4,       913,         0,       913,[          0]\n",
      "vehicles       ,      3069,     25747,      1176,     24571,[   0.045675]\n",
      "bus            ,       514,     19835,       613,     19222,[   0.030905]\n",
      "boat           ,        17,      1206,        17,      1189,[   0.014096]\n"
     ]
    },
    {
     "data": {
      "image/png": "[encoded data removed]",
      "text/plain": [
       "<Figure size 400x400 with 1 Axes>"
      ]
     },
     "metadata": {
      "needs_background": "light"
     },
     "output_type": "display_data"
    }
   ],
   "source": [
    "# Test\n",
    "stats = test.my_test(cfg='cfg/yolov3-spp.cfg',\n",
    "         data='/data/zjc4/chipped-90/xview_data.txt',\n",
    "         weights='weights/best-90.pt',\n",
    "         batch_size=32,\n",
    "         img_size=416,\n",
    "         conf_thres=0.001,\n",
    "         iou_thres=0.25,\n",
    "         save_json=True)\n"
   ]
  },
  {
   "cell_type": "code",
   "execution_count": 4,
   "metadata": {},
   "outputs": [
    {
     "ename": "NameError",
     "evalue": "name 'detect' is not defined",
     "output_type": "error",
     "traceback": [
      "\u001b[0;31m---------------------------------------------------------------------------\u001b[0m",
      "\u001b[0;31mNameError\u001b[0m                                 Traceback (most recent call last)",
      "\u001b[0;32m<ipython-input-4-8e163768f75f>\u001b[0m in \u001b[0;36m<module>\u001b[0;34m()\u001b[0m\n\u001b[0;32m----> 1\u001b[0;31m \u001b[0mp\u001b[0m\u001b[0;34m,\u001b[0m \u001b[0mr\u001b[0m\u001b[0;34m,\u001b[0m \u001b[0map\u001b[0m\u001b[0;34m,\u001b[0m \u001b[0mf1\u001b[0m\u001b[0;34m,\u001b[0m \u001b[0map_class\u001b[0m \u001b[0;34m=\u001b[0m \u001b[0mdetect\u001b[0m\u001b[0;34m.\u001b[0m\u001b[0mmy_ap_per_class\u001b[0m\u001b[0;34m(\u001b[0m\u001b[0;34m*\u001b[0m\u001b[0mstats\u001b[0m\u001b[0;34m)\u001b[0m\u001b[0;34m\u001b[0m\u001b[0;34m\u001b[0m\u001b[0m\n\u001b[0m",
      "\u001b[0;31mNameError\u001b[0m: name 'detect' is not defined"
     ]
    }
   ],
   "source": [
    "p, r, ap, f1, ap_class = detect.my_ap_per_class(*stats)"
   ]
  },
  {
   "cell_type": "code",
   "execution_count": 83,
   "metadata": {},
   "outputs": [
    {
     "data": {
      "text/plain": [
       "array([[    0.31923],\n",
       "       [  0.0035088],\n",
       "       [   0.095855],\n",
       "       [          0],\n",
       "       [  0.0091984],\n",
       "       [   0.001938]])"
      ]
     },
     "execution_count": 83,
     "metadata": {},
     "output_type": "execute_result"
    }
   ],
   "source": [
    "p"
   ]
  },
  {
   "cell_type": "code",
   "execution_count": 45,
   "metadata": {},
   "outputs": [],
   "source": [
    "import os"
   ]
  },
  {
   "cell_type": "code",
   "execution_count": 51,
   "metadata": {},
   "outputs": [
    {
     "data": {
      "text/plain": [
       "0"
      ]
     },
     "execution_count": 51,
     "metadata": {},
     "output_type": "execute_result"
    }
   ],
   "source": [
    "os.system(\"cp /data/zjc4/chipped-90/data/images/002391_00.jpg /data/zjc4/detect-90/\" )\n",
    "os.system(\"cp /data/zjc4/chipped-30/data/images/002391_00.jpg /data/zjc4/detect-30/\" )"
   ]
  },
  {
   "cell_type": "code",
   "execution_count": 52,
   "metadata": {},
   "outputs": [
    {
     "data": {
      "text/plain": [
       "0"
      ]
     },
     "execution_count": 52,
     "metadata": {},
     "output_type": "execute_result"
    }
   ],
   "source": [
    "(os.system(\"python3 detect.py --weights weights/best-90.pt --source /data/zjc4/detect-90 --output output_90/\"))\n",
    "(os.system(\"python3 detect.py --weights weights/best-30.pt --source /data/zjc4/detect-30 --output output_30/\"))"
   ]
  }
 ],
 "metadata": {
  "kernelspec": {
   "display_name": "Python 3",
   "language": "python",
   "name": "python3"
  },
  "language_info": {
   "codemirror_mode": {
    "name": "ipython",
    "version": 3
   },
   "file_extension": ".py",
   "mimetype": "text/x-python",
   "name": "python",
   "nbconvert_exporter": "python",
   "pygments_lexer": "ipython3",
   "version": "3.6.9"
  }
 },
 "nbformat": 4,
 "nbformat_minor": 4
}
