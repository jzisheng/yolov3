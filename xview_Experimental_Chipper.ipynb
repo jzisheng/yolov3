{
 "cells": [
  {
   "cell_type": "code",
   "execution_count": 259,
   "metadata": {},
   "outputs": [],
   "source": [
    "import sys\n",
    "sys.path.append(\"utils/\")\n",
    "import wv_util as wv\n",
    "from utils.dataset_utils import *"
   ]
  },
  {
   "cell_type": "code",
   "execution_count": 260,
   "metadata": {},
   "outputs": [
    {
     "name": "stderr",
     "output_type": "stream",
     "text": [
      "100%|██████████| 601937/601937 [00:04<00:00, 146150.27it/s]\n"
     ]
    }
   ],
   "source": [
    "coords1, chips1, classes1 = wv.get_labels('/data/zjc4/xView_train.geojson')"
   ]
  },
  {
   "cell_type": "code",
   "execution_count": 261,
   "metadata": {},
   "outputs": [],
   "source": [
    "idxs = np.arange(0,coords1.shape[0]).reshape(-1,1)\n",
    "coords1_idx = np.hstack( (coords1, idxs ))\n"
   ]
  },
  {
   "cell_type": "code",
   "execution_count": 262,
   "metadata": {},
   "outputs": [
    {
     "data": {
      "text/plain": [
       "(601937, 5)"
      ]
     },
     "execution_count": 262,
     "metadata": {},
     "output_type": "execute_result"
    }
   ],
   "source": [
    "coords1_idx.shape"
   ]
  },
  {
   "cell_type": "raw",
   "metadata": {},
   "source": [
    "coords = np.array([[0,10],[5,11],[2,12],[2,13],[4,4]])\n",
    "x = np.logical_and(coords[:,0] < 5,coords[:,0] > 1)\n",
    "out = coords[x]\n",
    "print(coords)\n",
    "coords[:,0] = np.clip(coords[:,0],3,4)\n",
    "print(coords)"
   ]
  },
  {
   "cell_type": "code",
   "execution_count": 263,
   "metadata": {},
   "outputs": [],
   "source": [
    "import aug_util as aug\n",
    "import wv_util as wv\n",
    "import matplotlib.pyplot as plt\n",
    "import pandas as pd\n",
    "import numpy as np\n",
    "import csv\n",
    "import tqdm\n",
    "import pickle\n",
    "import itertools\n",
    "import cv2 as cv\n",
    "import glob\n",
    "import random\n",
    "import os\n",
    "import imp\n",
    "\n",
    "from PIL import Image\n",
    "from sklearn.model_selection import train_test_split\n",
    "import dataset_utils as du\n",
    "\n",
    "imp.reload(wv)\n",
    "imp.reload(du)\n",
    "\n",
    "import random\n",
    "s = 180\n",
    "#s = 15\n",
    "#s = 30\n",
    "np.random.seed(s)\n",
    "random.seed(s)\n",
    "unique_chips = np.unique(chips1)\n",
    "selected_images = np.random.choice(unique_chips,440)\n",
    "idxs = np.isin(chips1,selected_images)\n",
    "\n",
    "# Input desired classes\n",
    "grouped_classes = [[77,73],[11,12],[13],[17,18,20,21],\n",
    "       [19,23,24,25,28,29,60,61,65,26],[41,42,50,40,44,45,47,49]]\n",
    "\n",
    "labels = [\"building and facility\" ,\"small aircraft\", \n",
    "          \"large aircraft\",\"vehicles\",\"bus\",\"boat\"]\n",
    "\n",
    "xdataset = du.XviewDataset(grouped_classes,labels, coords1_idx[idxs],\n",
    "                           chips1[idxs],classes1[idxs])\n",
    "\n",
    "tif_names,distrbs = xdataset.splitTrainTest(debug=True)\n",
    "dfs,gc = distrbs\n",
    "\n",
    "string_sets = [\"train\",\"valid\"]\n",
    "datum = list(zip(string_sets,tif_names))"
   ]
  },
  {
   "cell_type": "code",
   "execution_count": 274,
   "metadata": {},
   "outputs": [
    {
     "name": "stdout",
     "output_type": "stream",
     "text": [
      "                          count\n",
      "grouped cls                    \n",
      "boat                     2019.0\n",
      "building and facility  109452.0\n",
      "bus                     10900.0\n",
      "large aircraft            217.0\n",
      "small aircraft            156.0\n",
      "vehicles                64087.0\n"
     ]
    }
   ],
   "source": [
    "temp_df = dfs[0]\n",
    "temp_df['count'] = pd.to_numeric(temp_df['count'])\n",
    "print(temp_df[['grouped cls','count']].groupby(['grouped cls']).sum())"
   ]
  },
  {
   "cell_type": "code",
   "execution_count": 263,
   "metadata": {},
   "outputs": [
    {
     "name": "stderr",
     "output_type": "stream",
     "text": [
      "346it [00:05, 66.83it/s]\n"
     ]
    },
    {
     "data": {
      "text/html": [
       "<div>\n",
       "<style scoped>\n",
       "    .dataframe tbody tr th:only-of-type {\n",
       "        vertical-align: middle;\n",
       "    }\n",
       "\n",
       "    .dataframe tbody tr th {\n",
       "        vertical-align: top;\n",
       "    }\n",
       "\n",
       "    .dataframe thead th {\n",
       "        text-align: right;\n",
       "    }\n",
       "</style>\n",
       "<table border=\"1\" class=\"dataframe\">\n",
       "  <thead>\n",
       "    <tr style=\"text-align: right;\">\n",
       "      <th></th>\n",
       "      <th>count</th>\n",
       "    </tr>\n",
       "    <tr>\n",
       "      <th>grouped cls</th>\n",
       "      <th></th>\n",
       "    </tr>\n",
       "  </thead>\n",
       "  <tbody>\n",
       "    <tr>\n",
       "      <th>boat</th>\n",
       "      <td>387.0</td>\n",
       "    </tr>\n",
       "    <tr>\n",
       "      <th>building and facility</th>\n",
       "      <td>23241.0</td>\n",
       "    </tr>\n",
       "    <tr>\n",
       "      <th>bus</th>\n",
       "      <td>2537.0</td>\n",
       "    </tr>\n",
       "    <tr>\n",
       "      <th>large aircraft</th>\n",
       "      <td>98.0</td>\n",
       "    </tr>\n",
       "    <tr>\n",
       "      <th>small aircraft</th>\n",
       "      <td>24.0</td>\n",
       "    </tr>\n",
       "    <tr>\n",
       "      <th>vehicles</th>\n",
       "      <td>14719.0</td>\n",
       "    </tr>\n",
       "  </tbody>\n",
       "</table>\n",
       "</div>"
      ],
      "text/plain": [
       "                         count\n",
       "grouped cls                   \n",
       "boat                     387.0\n",
       "building and facility  23241.0\n",
       "bus                     2537.0\n",
       "large aircraft            98.0\n",
       "small aircraft            24.0\n",
       "vehicles               14719.0"
      ]
     },
     "execution_count": 263,
     "metadata": {},
     "output_type": "execute_result"
    }
   ],
   "source": [
    "temp_df = dfs[1]\n",
    "temp_df['count'] = pd.to_numeric(temp_df['count'])\n",
    "temp_df[['grouped cls','count']].groupby(['grouped cls']).sum()"
   ]
  },
  {
   "cell_type": "code",
   "execution_count": 264,
   "metadata": {},
   "outputs": [
    {
     "name": "stdout",
     "output_type": "stream",
     "text": [
      "[Errno 2] No such file or directory: '/data/zjc4/train_images/1395.tif'\n",
      "/data/zjc4/chipped-30/data/xview_img_train.txt\n",
      "/data/zjc4/chipped-30/data/xview_img_valid.txt\n"
     ]
    }
   ],
   "source": [
    "\"\"\"\n",
    "Generate darknet images for 30 cm\n",
    "\"\"\"\n",
    "# Deleting all old images\n",
    "os.system(\"rm /data/zjc4/chipped-30/data/images/*\")\n",
    "os.system(\"rm /data/zjc4/chipped-30/data/labels/*\")\n",
    "os.system(\"rm /data/zjc4/chipped-30/data/xview_img_train.txt\")\n",
    "os.system(\"rm /data/zjc4/chipped-30/data/xview_img_valid.txt\")\n",
    "os.system(\"rm /data/zjc4/chipped-30/data/xview_img_test.txt\")\n",
    "\n",
    "dnf = du.DarkNetFormatter(output_dir_ = \"/data/zjc4/chipped-30/data/\",\n",
    "                       input_dir_=\"/data/zjc4/\",\n",
    "                     coords_ = coords1_idx[idxs],\n",
    "                       chips_ = chips1[idxs],\n",
    "                       classes_ = classes1[idxs],\n",
    "                       grouped_classes_=grouped_classes)\n",
    "dnf.transformDatum(datum,30,showImg=False,chipImage=True)"
   ]
  },
  {
   "cell_type": "code",
   "execution_count": 269,
   "metadata": {},
   "outputs": [
    {
     "name": "stdout",
     "output_type": "stream",
     "text": [
      "[Errno 2] No such file or directory: '/data/zjc4/train_images/1395.tif'\n",
      "/data/zjc4/chipped-80/data/xview_img_train.txt\n",
      "/data/zjc4/chipped-80/data/xview_img_valid.txt\n"
     ]
    }
   ],
   "source": [
    "import dataset_utils as du\n",
    "imp.reload(du)\n",
    "\n",
    "\"\"\"\n",
    "Generate darknet images for 80 cm\n",
    "\"\"\"\n",
    "# Deleting all old images\n",
    "os.system(\"mkdir /data/zjc4/chipped-80/\")\n",
    "os.system(\"mkdir /data/zjc4/chipped-80/data/\")\n",
    "os.system(\"mkdir /data/zjc4/chipped-80/data/images/\")\n",
    "os.system(\"mkdir /data/zjc4/chipped-80/data/labels/\")\n",
    "os.system(\"rm /data/zjc4/chipped-80/data/images/*\")\n",
    "os.system(\"rm /data/zjc4/chipped-80/data/labels/*\")\n",
    "os.system(\"rm /data/zjc4/chipped-80/data/xview_img_train.txt\")\n",
    "os.system(\"rm /data/zjc4/chipped-80/data/xview_img_valid.txt\")\n",
    "os.system(\"rm /data/zjc4/chipped-80/data/xview_img_test.txt\")\n",
    "\n",
    "dnf2 = du.DarkNetFormatter(output_dir_ = \"/data/zjc4/chipped-80/data/\",\n",
    "                       input_dir_=\"/data/zjc4/\",\n",
    "                       coords_ = coords1_idx[idxs],\n",
    "                       chips_ = chips1[idxs],\n",
    "                       classes_ = classes1[idxs],\n",
    "                       grouped_classes_=grouped_classes)\n",
    "dnf2.transformDatum(datum,80,showImg=False,chipImage=True)"
   ]
  },
  {
   "cell_type": "code",
   "execution_count": 265,
   "metadata": {},
   "outputs": [
    {
     "name": "stdout",
     "output_type": "stream",
     "text": [
      "[Errno 2] No such file or directory: '/data/zjc4/train_images/1395.tif'\n",
      "/data/zjc4/chipped-100/data/xview_img_train.txt\n",
      "/data/zjc4/chipped-100/data/xview_img_valid.txt\n"
     ]
    }
   ],
   "source": [
    "import dataset_utils as du\n",
    "imp.reload(du)\n",
    "\n",
    "\"\"\"\n",
    "Generate darknet images for 100 cm\n",
    "\"\"\"\n",
    "# Deleting all old images\n",
    "os.system(\"mkdir /data/zjc4/chipped-100/\")\n",
    "os.system(\"mkdir /data/zjc4/chipped-100/data/\")\n",
    "os.system(\"mkdir /data/zjc4/chipped-100/data/images/\")\n",
    "os.system(\"mkdir /data/zjc4/chipped-100/data/labels/\")\n",
    "os.system(\"rm /data/zjc4/chipped-100/data/images/*\")\n",
    "os.system(\"rm /data/zjc4/chipped-100/data/labels/*\")\n",
    "os.system(\"rm /data/zjc4/chipped-100/data/xview_img_train.txt\")\n",
    "os.system(\"rm /data/zjc4/chipped-100/data/xview_img_valid.txt\")\n",
    "os.system(\"rm /data/zjc4/chipped-100/data/xview_img_test.txt\")\n",
    "\n",
    "dnf2 = du.DarkNetFormatter(output_dir_ = \"/data/zjc4/chipped-100/data/\",\n",
    "                       input_dir_=\"/data/zjc4/\",\n",
    "                       coords_ = coords1_idx[idxs],\n",
    "                       chips_ = chips1[idxs],\n",
    "                       classes_ = classes1[idxs],\n",
    "                       grouped_classes_=grouped_classes)\n",
    "dnf2.transformDatum(datum,100,showImg=False,chipImage=True)"
   ]
  },
  {
   "cell_type": "code",
   "execution_count": 272,
   "metadata": {},
   "outputs": [
    {
     "name": "stdout",
     "output_type": "stream",
     "text": [
      "[Errno 2] No such file or directory: '/data/zjc4/train_images/1395.tif'\n",
      "/data/zjc4/chipped-200/data/xview_img_train.txt\n",
      "/data/zjc4/chipped-200/data/xview_img_valid.txt\n"
     ]
    }
   ],
   "source": [
    "import dataset_utils as du\n",
    "imp.reload(du)\n",
    "\n",
    "\"\"\"\n",
    "Generate darknet images for 200 cm\n",
    "\"\"\"\n",
    "# Deleting all old images\n",
    "os.system(\"mkdir /data/zjc4/chipped-200/\")\n",
    "os.system(\"mkdir /data/zjc4/chipped-200/data/\")\n",
    "os.system(\"mkdir /data/zjc4/chipped-200/data/images/\")\n",
    "os.system(\"mkdir /data/zjc4/chipped-200/data/labels/\")\n",
    "os.system(\"rm /data/zjc4/chipped-200/data/images/*\")\n",
    "os.system(\"rm /data/zjc4/chipped-200/data/labels/*\")\n",
    "os.system(\"rm /data/zjc4/chipped-200/data/xview_img_train.txt\")\n",
    "os.system(\"rm /data/zjc4/chipped-200/data/xview_img_valid.txt\")\n",
    "os.system(\"rm /data/zjc4/chipped-200/data/xview_img_test.txt\")\n",
    "\n",
    "dnf2 = du.DarkNetFormatter(output_dir_ = \"/data/zjc4/chipped-200/data/\",\n",
    "                       input_dir_=\"/data/zjc4/\",\n",
    "                       coords_ = coords1_idx[idxs],\n",
    "                       chips_ = chips1[idxs],\n",
    "                       classes_ = classes1[idxs],\n",
    "                       grouped_classes_=grouped_classes)\n",
    "dnf2.transformDatum(datum,200,showImg=False,chipImage=False)"
   ]
  },
  {
   "cell_type": "code",
   "execution_count": 270,
   "metadata": {},
   "outputs": [
    {
     "name": "stdout",
     "output_type": "stream",
     "text": [
      "[Errno 2] No such file or directory: '/data/zjc4/train_images/1395.tif'\n",
      "/data/zjc4/chipped-200/data/xview_img_train.txt\n",
      "/data/zjc4/chipped-200/data/xview_img_valid.txt\n"
     ]
    }
   ],
   "source": [
    "import dataset_utils as du\n",
    "imp.reload(du)\n",
    "\n",
    "\"\"\"\n",
    "Generate darknet images for 200 cm\n",
    "\"\"\"\n",
    "# Deleting all old images\n",
    "os.system(\"mkdir /data/zjc4/chipped-300/\")\n",
    "os.system(\"mkdir /data/zjc4/chipped-300/data/\")\n",
    "os.system(\"mkdir /data/zjc4/chipped-300/data/images/\")\n",
    "os.system(\"mkdir /data/zjc4/chipped-300/data/labels/\")\n",
    "os.system(\"rm /data/zjc4/chipped-300/data/images/*\")\n",
    "os.system(\"rm /data/zjc4/chipped-300/data/labels/*\")\n",
    "os.system(\"rm /data/zjc4/chipped-300/data/xview_img_train.txt\")\n",
    "os.system(\"rm /data/zjc4/chipped-300/data/xview_img_valid.txt\")\n",
    "os.system(\"rm /data/zjc4/chipped-300/data/xview_img_test.txt\")\n",
    "\n",
    "dnf2 = du.DarkNetFormatter(output_dir_ = \"/data/zjc4/chipped-300/data/\",\n",
    "                       input_dir_=\"/data/zjc4/\",\n",
    "                       coords_ = coords1_idx[idxs],\n",
    "                       chips_ = chips1[idxs],\n",
    "                       classes_ = classes1[idxs],\n",
    "                       grouped_classes_=grouped_classes)\n",
    "dnf2.transformDatum(datum,200,showImg=False,chipImage=False)"
   ]
  },
  {
   "cell_type": "code",
   "execution_count": 271,
   "metadata": {},
   "outputs": [
    {
     "name": "stdout",
     "output_type": "stream",
     "text": [
      "[Errno 2] No such file or directory: '/data/zjc4/train_images/1395.tif'\n",
      "/data/zjc4/chipped-1000/data/xview_img_train.txt\n",
      "/data/zjc4/chipped-1000/data/xview_img_valid.txt\n"
     ]
    }
   ],
   "source": [
    "import dataset_utils as du\n",
    "imp.reload(du)\n",
    "\n",
    "\"\"\"\n",
    "Generate darknet images for 1000 cm\n",
    "\"\"\"\n",
    "# Deleting all old images\n",
    "os.system(\"mkdir /data/zjc4/chipped-1000/\")\n",
    "os.system(\"mkdir /data/zjc4/chipped-1000/data/\")\n",
    "os.system(\"mkdir /data/zjc4/chipped-1000/data/images/\")\n",
    "os.system(\"mkdir /data/zjc4/chipped-1000/data/labels/\")\n",
    "os.system(\"rm /data/zjc4/chipped-1000/data/images/*\")\n",
    "os.system(\"rm /data/zjc4/chipped-1000/data/labels/*\")\n",
    "os.system(\"rm /data/zjc4/chipped-1000/data/xview_img_train.txt\")\n",
    "os.system(\"rm /data/zjc4/chipped-1000/data/xview_img_valid.txt\")\n",
    "os.system(\"rm /data/zjc4/chipped-1000/data/xview_img_test.txt\")\n",
    "\n",
    "dnf2 = du.DarkNetFormatter(output_dir_ = \"/data/zjc4/chipped-1000/data/\",\n",
    "                       input_dir_=\"/data/zjc4/\",\n",
    "                       coords_ = coords1_idx[idxs],\n",
    "                       chips_ = chips1[idxs],\n",
    "                       classes_ = classes1[idxs],\n",
    "                       grouped_classes_=grouped_classes)\n",
    "dnf2.transformDatum(datum,1000,showImg=False,chipImage=False)"
   ]
  },
  {
   "cell_type": "code",
   "execution_count": null,
   "metadata": {},
   "outputs": [],
   "source": [
    "\"\"\"\n",
    "Generate darknet images for 1000 cm\n",
    "\"\"\"\n",
    "# Deleting all old images\n",
    "os.system(\"rm /data/zjc4/chipped-30/data/images/*\")\n",
    "os.system(\"rm /data/zjc4/chipped-30/data/labels/*\")\n",
    "os.system(\"rm /data/zjc4/chipped-30/data/xview_img_train.txt\")\n",
    "os.system(\"rm /data/zjc4/chipped-30/data/xview_img_valid.txt\")\n",
    "os.system(\"rm /data/zjc4/chipped-30/data/xview_img_test.txt\")\n",
    "\n",
    "dnf = du.DarkNetFormatter(output_dir_ = \"/data/zjc4/chipped-30/data/\",\n",
    "                       input_dir_=\"/data/zjc4/\",\n",
    "                     coords_ = coords1_idx[idxs],\n",
    "                       chips_ = chips1[idxs],\n",
    "                       classes_ = classes1[idxs],\n",
    "                       grouped_classes_=grouped_classes)\n",
    "dnf.transformDatum(datum,30,showImg=False,chipImage=True)"
   ]
  }
 ],
 "metadata": {
  "kernelspec": {
   "display_name": "Python 3",
   "language": "python",
   "name": "python3"
  },
  "language_info": {
   "codemirror_mode": {
    "name": "ipython",
    "version": 3
   },
   "file_extension": ".py",
   "mimetype": "text/x-python",
   "name": "python",
   "nbconvert_exporter": "python",
   "pygments_lexer": "ipython3",
   "version": "3.6.9"
  }
 },
 "nbformat": 4,
 "nbformat_minor": 4
}
