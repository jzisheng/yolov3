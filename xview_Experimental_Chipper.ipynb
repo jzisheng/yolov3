{
 "cells": [
  {
   "cell_type": "code",
   "execution_count": 38,
   "metadata": {},
   "outputs": [],
   "source": [
    "import sys\n",
    "sys.path.append(\"utils/\")\n",
    "import wv_util as wv\n",
    "from utils.dataset_utils import *"
   ]
  },
  {
   "cell_type": "code",
   "execution_count": 40,
   "metadata": {},
   "outputs": [
    {
     "name": "stderr",
     "output_type": "stream",
     "text": [
      "100%|██████████| 601937/601937 [00:04<00:00, 139320.98it/s]\n"
     ]
    }
   ],
   "source": [
    "coords1, chips1, classes1 = wv.get_labels('/data/zjc4/xView_train.geojson')"
   ]
  },
  {
   "cell_type": "code",
   "execution_count": 99,
   "metadata": {},
   "outputs": [],
   "source": [
    "idxs = np.arange(0,coords1.shape[0]).reshape(-1,1)\n",
    "coords1_idx = np.hstack( (coords1, idxs ))\n"
   ]
  },
  {
   "cell_type": "code",
   "execution_count": 101,
   "metadata": {},
   "outputs": [
    {
     "data": {
      "text/plain": [
       "(601937, 5)"
      ]
     },
     "execution_count": 101,
     "metadata": {},
     "output_type": "execute_result"
    }
   ],
   "source": [
    "coords1_idx.shape"
   ]
  },
  {
   "cell_type": "raw",
   "metadata": {},
   "source": [
    "coords = np.array([[0,10],[5,11],[2,12],[2,13],[4,4]])\n",
    "x = np.logical_and(coords[:,0] < 5,coords[:,0] > 1)\n",
    "out = coords[x]\n",
    "print(coords)\n",
    "coords[:,0] = np.clip(coords[:,0],3,4)\n",
    "print(coords)"
   ]
  },
  {
   "cell_type": "code",
   "execution_count": 137,
   "metadata": {},
   "outputs": [
    {
     "name": "stderr",
     "output_type": "stream",
     "text": [
      "2it [00:00, 456.82it/s]\n"
     ]
    }
   ],
   "source": [
    "import aug_util as aug\n",
    "import wv_util as wv\n",
    "import matplotlib.pyplot as plt\n",
    "import pandas as pd\n",
    "import numpy as np\n",
    "import csv\n",
    "import tqdm\n",
    "import pickle\n",
    "import itertools\n",
    "import cv2 as cv\n",
    "import glob\n",
    "import random\n",
    "import os\n",
    "import imp\n",
    "\n",
    "from PIL import Image\n",
    "from sklearn.model_selection import train_test_split\n",
    "import dataset_utils as du\n",
    "\n",
    "imp.reload(wv)\n",
    "imp.reload(du)\n",
    "\n",
    "import random\n",
    "np.random.seed(10)\n",
    "random.seed(10)\n",
    "unique_chips = np.unique(chips1)\n",
    "selected_images = np.random.choice(unique_chips,2)\n",
    "#selected_images = np.random.choice(unique_chips,10)\n",
    "idxs = np.isin(chips1,selected_images)\n",
    "\n",
    "# Input desired classes\n",
    "grouped_classes = [[77,73],[11,12],[13],[17,18,20,21],\n",
    "       [19,23,24,25,28,29,60,61,65,26],[41,42,50,40,44,45,47,49]]\n",
    "\n",
    "labels = [\"building and facility\" ,\"small aircraft\", \n",
    "          \"large aircraft\",\"vehicles\",\"bus\",\"boat\"]\n",
    "\n",
    "xdataset = du.XviewDataset(grouped_classes,labels, coords1_idx[idxs],chips1[idxs],classes1[idxs])\n",
    "tif_names,distrbs = xdataset.splitTrainTest(debug=True)\n",
    "dfs,gc = distrbs\n",
    "\n",
    "string_sets = [\"train\",\"valid\"]\n",
    "datum = list(zip(string_sets,tif_names))\n",
    "\n",
    "\n",
    "\n",
    "\"\"\"\n",
    "Generate darknet images for 30 cm\n",
    "\"\"\"\n",
    "# Deleting all old images\n",
    "os.system(\"rm /data/zjc4/chipped-30/data/images/*\")\n",
    "os.system(\"rm /data/zjc4/chipped-30/data/labels/*\")\n",
    "\n",
    "dnf = du.DarkNetFormatter(output_dir_ = \"/data/zjc4/chipped-30/data/\",\n",
    "                       input_dir_=\"/data/zjc4/\",\n",
    "                     coords_ = coords1_idx[idxs],\n",
    "                       chips_ = chips1[idxs],\n",
    "                       classes_ = classes1[idxs],\n",
    "                       grouped_classes_=grouped_classes)\n",
    "dnf.transformDatum(datum,30,showImg=False,chipImage=True)"
   ]
  },
  {
   "cell_type": "raw",
   "metadata": {},
   "source": [
    "os.system(\"rm /data/zjc4/chipped-90/data/images/*\")\n",
    "os.system(\"rm /data/zjc4/chipped-90/data/labels/*\")\n",
    "\n",
    "\"\"\"\n",
    "Generate images for 90 cm\n",
    "\"\"\"\n",
    "dnf = du.DarkNetFormatter(output_dir_ = \"/data/zjc4/chipped-90/data/\",\n",
    "                       input_dir_=\"/data/zjc4/\",\n",
    "                       coords_ = coords1[idxs],\n",
    "                       chips_ = chips1[idxs],\n",
    "                       classes_ = classes1[idxs],\n",
    "                       grouped_classes_=grouped_classes)\n",
    "dnf.transformDatum(datum,90)"
   ]
  }
 ],
 "metadata": {
  "kernelspec": {
   "display_name": "Python 3",
   "language": "python",
   "name": "python3"
  },
  "language_info": {
   "codemirror_mode": {
    "name": "ipython",
    "version": 3
   },
   "file_extension": ".py",
   "mimetype": "text/x-python",
   "name": "python",
   "nbconvert_exporter": "python",
   "pygments_lexer": "ipython3",
   "version": "3.6.9"
  }
 },
 "nbformat": 4,
 "nbformat_minor": 4
}
