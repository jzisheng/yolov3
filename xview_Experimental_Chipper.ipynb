{
 "cells": [
  {
   "cell_type": "code",
   "execution_count": 1,
   "metadata": {},
   "outputs": [],
   "source": [
    "import sys\n",
    "sys.path.append(\"utils/\")\n",
    "import wv_util as wv\n",
    "from utils.dataset_utils import *"
   ]
  },
  {
   "cell_type": "code",
   "execution_count": 2,
   "metadata": {},
   "outputs": [
    {
     "name": "stderr",
     "output_type": "stream",
     "text": [
      "100%|██████████| 601937/601937 [00:03<00:00, 163298.70it/s]\n"
     ]
    }
   ],
   "source": [
    "coords1, chips1, classes1 = wv.get_labels('/data/zjc4/xView_train.geojson')"
   ]
  },
  {
   "cell_type": "code",
   "execution_count": 3,
   "metadata": {},
   "outputs": [],
   "source": [
    "idxs = np.arange(0,coords1.shape[0]).reshape(-1,1)\n",
    "coords1_idx = np.hstack( (coords1, idxs ))\n"
   ]
  },
  {
   "cell_type": "code",
   "execution_count": 4,
   "metadata": {},
   "outputs": [
    {
     "data": {
      "text/plain": [
       "(601937, 5)"
      ]
     },
     "execution_count": 4,
     "metadata": {},
     "output_type": "execute_result"
    }
   ],
   "source": [
    "coords1_idx.shape"
   ]
  },
  {
   "cell_type": "raw",
   "metadata": {},
   "source": [
    "coords = np.array([[0,10],[5,11],[2,12],[2,13],[4,4]])\n",
    "x = np.logical_and(coords[:,0] < 5,coords[:,0] > 1)\n",
    "out = coords[x]\n",
    "print(coords)\n",
    "coords[:,0] = np.clip(coords[:,0],3,4)\n",
    "print(coords)"
   ]
  },
  {
   "cell_type": "code",
   "execution_count": 5,
   "metadata": {},
   "outputs": [
    {
     "name": "stderr",
     "output_type": "stream",
     "text": [
      "20it [00:00, 836.86it/s]\n"
     ]
    }
   ],
   "source": [
    "import aug_util as aug\n",
    "import wv_util as wv\n",
    "import matplotlib.pyplot as plt\n",
    "import pandas as pd\n",
    "import numpy as np\n",
    "import csv\n",
    "import tqdm\n",
    "import pickle\n",
    "import itertools\n",
    "import cv2 as cv\n",
    "import glob\n",
    "import random\n",
    "import os\n",
    "import imp\n",
    "\n",
    "from PIL import Image\n",
    "from sklearn.model_selection import train_test_split\n",
    "import dataset_utils as du\n",
    "\n",
    "imp.reload(wv)\n",
    "imp.reload(du)\n",
    "\n",
    "import random\n",
    "np.random.seed(10)\n",
    "random.seed(10)\n",
    "unique_chips = np.unique(chips1)\n",
    "selected_images = np.random.choice(unique_chips,20)\n",
    "#selected_images = np.random.choice(unique_chips,10)\n",
    "idxs = np.isin(chips1,selected_images)\n",
    "\n",
    "# Input desired classes\n",
    "grouped_classes = [[77,73],[11,12],[13],[17,18,20,21],\n",
    "       [19,23,24,25,28,29,60,61,65,26],[41,42,50,40,44,45,47,49]]\n",
    "\n",
    "labels = [\"building and facility\" ,\"small aircraft\", \n",
    "          \"large aircraft\",\"vehicles\",\"bus\",\"boat\"]\n",
    "\n",
    "xdataset = du.XviewDataset(grouped_classes,labels, coords1_idx[idxs],chips1[idxs],classes1[idxs])\n",
    "tif_names,distrbs = xdataset.splitTrainTest(debug=True)\n",
    "dfs,gc = distrbs\n",
    "\n",
    "string_sets = [\"train\",\"valid\"]\n",
    "datum = list(zip(string_sets,tif_names))\n",
    "\n",
    "\n",
    "\n",
    "\"\"\"\n",
    "Generate darknet images for 30 cm\n",
    "\"\"\"\n",
    "# Deleting all old images\n",
    "os.system(\"rm /data/zjc4/chipped-30/data/images/*\")\n",
    "os.system(\"rm /data/zjc4/chipped-30/data/labels/*\")\n",
    "\n",
    "dnf = du.DarkNetFormatter(output_dir_ = \"/data/zjc4/chipped-30/data/\",\n",
    "                       input_dir_=\"/data/zjc4/\",\n",
    "                     coords_ = coords1_idx[idxs],\n",
    "                       chips_ = chips1[idxs],\n",
    "                       classes_ = classes1[idxs],\n",
    "                       grouped_classes_=grouped_classes)\n",
    "dnf.transformDatum(datum,30,showImg=False,chipImage=True)"
   ]
  },
  {
   "cell_type": "code",
   "execution_count": 6,
   "metadata": {},
   "outputs": [
    {
     "data": {
      "text/html": [
       "<div>\n",
       "<style scoped>\n",
       "    .dataframe tbody tr th:only-of-type {\n",
       "        vertical-align: middle;\n",
       "    }\n",
       "\n",
       "    .dataframe tbody tr th {\n",
       "        vertical-align: top;\n",
       "    }\n",
       "\n",
       "    .dataframe thead th {\n",
       "        text-align: right;\n",
       "    }\n",
       "</style>\n",
       "<table border=\"1\" class=\"dataframe\">\n",
       "  <thead>\n",
       "    <tr style=\"text-align: right;\">\n",
       "      <th></th>\n",
       "      <th></th>\n",
       "      <th>og label</th>\n",
       "    </tr>\n",
       "    <tr>\n",
       "      <th>grouped cls</th>\n",
       "      <th>count</th>\n",
       "      <th></th>\n",
       "    </tr>\n",
       "  </thead>\n",
       "  <tbody>\n",
       "    <tr>\n",
       "      <th rowspan=\"5\" valign=\"top\">boat</th>\n",
       "      <th>0.0</th>\n",
       "      <td>SailboatYachtBarge</td>\n",
       "    </tr>\n",
       "    <tr>\n",
       "      <th>13.0</th>\n",
       "      <td>Tugboat</td>\n",
       "    </tr>\n",
       "    <tr>\n",
       "      <th>2.0</th>\n",
       "      <td>MotorboatFerry</td>\n",
       "    </tr>\n",
       "    <tr>\n",
       "      <th>4.0</th>\n",
       "      <td>Fishing Vessel</td>\n",
       "    </tr>\n",
       "    <tr>\n",
       "      <th>5.0</th>\n",
       "      <td>Maritime Vessel</td>\n",
       "    </tr>\n",
       "    <tr>\n",
       "      <th rowspan=\"2\" valign=\"top\">building and facility</th>\n",
       "      <th>10.0</th>\n",
       "      <td>Facility</td>\n",
       "    </tr>\n",
       "    <tr>\n",
       "      <th>1583.0</th>\n",
       "      <td>Building</td>\n",
       "    </tr>\n",
       "    <tr>\n",
       "      <th rowspan=\"6\" valign=\"top\">bus</th>\n",
       "      <th>0.0</th>\n",
       "      <td>Truck w/FlatbedTruck w/LiquidHaul TruckCement ...</td>\n",
       "    </tr>\n",
       "    <tr>\n",
       "      <th>3.0</th>\n",
       "      <td>Dump Truck</td>\n",
       "    </tr>\n",
       "    <tr>\n",
       "      <th>4.0</th>\n",
       "      <td>Truck w/BoxTruck Tractor</td>\n",
       "    </tr>\n",
       "    <tr>\n",
       "      <th>45.0</th>\n",
       "      <td>Bus</td>\n",
       "    </tr>\n",
       "    <tr>\n",
       "      <th>46.0</th>\n",
       "      <td>Truck</td>\n",
       "    </tr>\n",
       "    <tr>\n",
       "      <th>9.0</th>\n",
       "      <td>Cargo Truck</td>\n",
       "    </tr>\n",
       "    <tr>\n",
       "      <th>large aircraft</th>\n",
       "      <th>6.0</th>\n",
       "      <td>Cargo Plane</td>\n",
       "    </tr>\n",
       "    <tr>\n",
       "      <th>small aircraft</th>\n",
       "      <th>0.0</th>\n",
       "      <td>Fixed-wing AircraftSmall Aircraft</td>\n",
       "    </tr>\n",
       "    <tr>\n",
       "      <th rowspan=\"4\" valign=\"top\">vehicles</th>\n",
       "      <th>1.0</th>\n",
       "      <td>Utility Truck</td>\n",
       "    </tr>\n",
       "    <tr>\n",
       "      <th>1021.0</th>\n",
       "      <td>Small Car</td>\n",
       "    </tr>\n",
       "    <tr>\n",
       "      <th>4.0</th>\n",
       "      <td>Pickup Truck</td>\n",
       "    </tr>\n",
       "    <tr>\n",
       "      <th>9.0</th>\n",
       "      <td>Passenger Vehicle</td>\n",
       "    </tr>\n",
       "  </tbody>\n",
       "</table>\n",
       "</div>"
      ],
      "text/plain": [
       "                                                                       og label\n",
       "grouped cls           count                                                    \n",
       "boat                  0.0                                    SailboatYachtBarge\n",
       "                      13.0                                              Tugboat\n",
       "                      2.0                                        MotorboatFerry\n",
       "                      4.0                                        Fishing Vessel\n",
       "                      5.0                                       Maritime Vessel\n",
       "building and facility 10.0                                             Facility\n",
       "                      1583.0                                           Building\n",
       "bus                   0.0     Truck w/FlatbedTruck w/LiquidHaul TruckCement ...\n",
       "                      3.0                                            Dump Truck\n",
       "                      4.0                              Truck w/BoxTruck Tractor\n",
       "                      45.0                                                  Bus\n",
       "                      46.0                                                Truck\n",
       "                      9.0                                           Cargo Truck\n",
       "large aircraft        6.0                                           Cargo Plane\n",
       "small aircraft        0.0                     Fixed-wing AircraftSmall Aircraft\n",
       "vehicles              1.0                                         Utility Truck\n",
       "                      1021.0                                          Small Car\n",
       "                      4.0                                          Pickup Truck\n",
       "                      9.0                                     Passenger Vehicle"
      ]
     },
     "execution_count": 6,
     "metadata": {},
     "output_type": "execute_result"
    }
   ],
   "source": [
    "dfs[1].groupby(['grouped cls','count']).sum()"
   ]
  },
  {
   "cell_type": "raw",
   "metadata": {},
   "source": [
    "os.system(\"rm /data/zjc4/chipped-90/data/images/*\")\n",
    "os.system(\"rm /data/zjc4/chipped-90/data/labels/*\")\n",
    "\n",
    "\"\"\"\n",
    "Generate images for 90 cm\n",
    "\"\"\"\n",
    "dnf = du.DarkNetFormatter(output_dir_ = \"/data/zjc4/chipped-90/data/\",\n",
    "                       input_dir_=\"/data/zjc4/\",\n",
    "                       coords_ = coords1[idxs],\n",
    "                       chips_ = chips1[idxs],\n",
    "                       classes_ = classes1[idxs],\n",
    "                       grouped_classes_=grouped_classes)\n",
    "dnf.transformDatum(datum,90)"
   ]
  }
 ],
 "metadata": {
  "kernelspec": {
   "display_name": "Python 3",
   "language": "python",
   "name": "python3"
  },
  "language_info": {
   "codemirror_mode": {
    "name": "ipython",
    "version": 3
   },
   "file_extension": ".py",
   "mimetype": "text/x-python",
   "name": "python",
   "nbconvert_exporter": "python",
   "pygments_lexer": "ipython3",
   "version": "3.6.9"
  }
 },
 "nbformat": 4,
 "nbformat_minor": 4
}
