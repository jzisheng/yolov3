{
 "cells": [
  {
   "cell_type": "code",
   "execution_count": 2,
   "metadata": {},
   "outputs": [],
   "source": [
    "import sys\n",
    "sys.path.append(\"utils/\")\n",
    "import wv_util as wv\n",
    "from utils.dataset_utils import *"
   ]
  },
  {
   "cell_type": "code",
   "execution_count": 3,
   "metadata": {},
   "outputs": [
    {
     "name": "stderr",
     "output_type": "stream",
     "text": [
      "100%|██████████| 601937/601937 [00:03<00:00, 164939.74it/s]\n"
     ]
    }
   ],
   "source": [
    "coords1, chips1, classes1 = wv.get_labels('/data/zjc4/xView_train.geojson')"
   ]
  },
  {
   "cell_type": "code",
   "execution_count": 4,
   "metadata": {},
   "outputs": [],
   "source": [
    "idxs = np.arange(0,coords1.shape[0]).reshape(-1,1)\n",
    "coords1_idx = np.hstack( (coords1, idxs ))\n"
   ]
  },
  {
   "cell_type": "code",
   "execution_count": 62,
   "metadata": {},
   "outputs": [
    {
     "data": {
      "text/plain": [
       "(601937, 5)"
      ]
     },
     "execution_count": 62,
     "metadata": {},
     "output_type": "execute_result"
    }
   ],
   "source": [
    "coords1_idx.shape"
   ]
  },
  {
   "cell_type": "raw",
   "metadata": {},
   "source": [
    "coords = np.array([[0,10],[5,11],[2,12],[2,13],[4,4]])\n",
    "x = np.logical_and(coords[:,0] < 5,coords[:,0] > 1)\n",
    "out = coords[x]\n",
    "print(coords)\n",
    "coords[:,0] = np.clip(coords[:,0],3,4)\n",
    "print(coords)"
   ]
  },
  {
   "cell_type": "code",
   "execution_count": 63,
   "metadata": {},
   "outputs": [
    {
     "name": "stderr",
     "output_type": "stream",
     "text": [
      "10it [00:00, 680.56it/s]\n"
     ]
    },
    {
     "name": "stdout",
     "output_type": "stream",
     "text": [
      "/data/zjc4/chipped-30/data/xview_img_train.txt\n",
      "/data/zjc4/chipped-30/data/xview_img_valid.txt\n"
     ]
    }
   ],
   "source": [
    "import aug_util as aug\n",
    "import wv_util as wv\n",
    "import matplotlib.pyplot as plt\n",
    "import pandas as pd\n",
    "import numpy as np\n",
    "import csv\n",
    "import tqdm\n",
    "import pickle\n",
    "import itertools\n",
    "import cv2 as cv\n",
    "import glob\n",
    "import random\n",
    "import os\n",
    "import imp\n",
    "\n",
    "from PIL import Image\n",
    "from sklearn.model_selection import train_test_split\n",
    "import dataset_utils as du\n",
    "\n",
    "imp.reload(wv)\n",
    "imp.reload(du)\n",
    "\n",
    "import random\n",
    "np.random.seed(20)\n",
    "random.seed(20)\n",
    "unique_chips = np.unique(chips1)\n",
    "selected_images = np.random.choice(unique_chips,10)\n",
    "#selected_images = np.random.choice(unique_chips,10)\n",
    "idxs = np.isin(chips1,selected_images)\n",
    "\n",
    "# Input desired classes\n",
    "grouped_classes = [[77,73],[11,12],[13],[17,18,20,21],\n",
    "       [19,23,24,25,28,29,60,61,65,26],[41,42,50,40,44,45,47,49]]\n",
    "\n",
    "labels = [\"building and facility\" ,\"small aircraft\", \n",
    "          \"large aircraft\",\"vehicles\",\"bus\",\"boat\"]\n",
    "\n",
    "xdataset = du.XviewDataset(grouped_classes,labels, coords1_idx[idxs],chips1[idxs],classes1[idxs])\n",
    "tif_names,distrbs = xdataset.splitTrainTest(debug=True)\n",
    "dfs,gc = distrbs\n",
    "\n",
    "string_sets = [\"train\",\"valid\"]\n",
    "datum = list(zip(string_sets,tif_names))\n",
    "\n",
    "\"\"\"\n",
    "Generate darknet images for 30 cm\n",
    "\"\"\"\n",
    "# Deleting all old images\n",
    "os.system(\"rm /data/zjc4/chipped-30/data/images/*\")\n",
    "os.system(\"rm /data/zjc4/chipped-30/data/labels/*\")\n",
    "os.system(\"rm /data/zjc4/chipped-30/data/xview_img_train.txt\")\n",
    "os.system(\"rm /data/zjc4/chipped-30/data/xview_img_valid.txt\")\n",
    "os.system(\"rm /data/zjc4/chipped-30/data/xview_img_test.txt\")\n",
    "\n",
    "dnf = du.DarkNetFormatter(output_dir_ = \"/data/zjc4/chipped-30/data/\",\n",
    "                       input_dir_=\"/data/zjc4/\",\n",
    "                     coords_ = coords1_idx[idxs],\n",
    "                       chips_ = chips1[idxs],\n",
    "                       classes_ = classes1[idxs],\n",
    "                       grouped_classes_=grouped_classes)\n",
    "dnf.transformDatum(datum,30,showImg=False,chipImage=True)"
   ]
  },
  {
   "cell_type": "code",
   "execution_count": 64,
   "metadata": {},
   "outputs": [
    {
     "name": "stdout",
     "output_type": "stream",
     "text": [
      "/data/zjc4/chipped-90/data/xview_img_train.txt\n",
      "/data/zjc4/chipped-90/data/xview_img_valid.txt\n"
     ]
    }
   ],
   "source": [
    "import dataset_utils as du\n",
    "imp.reload(du)\n",
    "\n",
    "\"\"\"\n",
    "Generate darknet images for 30 cm\n",
    "\"\"\"\n",
    "# Deleting all old images\n",
    "os.system(\"rm /data/zjc4/chipped-90/data/images/*\")\n",
    "os.system(\"rm /data/zjc4/chipped-90/data/labels/*\")\n",
    "os.system(\"rm /data/zjc4/chipped-90/data/xview_img_train.txt\")\n",
    "os.system(\"rm /data/zjc4/chipped-90/data/xview_img_valid.txt\")\n",
    "os.system(\"rm /data/zjc4/chipped-90/data/xview_img_test.txt\")\n",
    "\n",
    "dnf2 = du.DarkNetFormatter(output_dir_ = \"/data/zjc4/chipped-90/data/\",\n",
    "                       input_dir_=\"/data/zjc4/\",\n",
    "                       coords_ = coords1_idx[idxs],\n",
    "                       chips_ = chips1[idxs],\n",
    "                       classes_ = classes1[idxs],\n",
    "                       grouped_classes_=grouped_classes)\n",
    "dnf2.transformDatum(datum,90,showImg=False,chipImage=True)"
   ]
  },
  {
   "cell_type": "code",
   "execution_count": 32,
   "metadata": {},
   "outputs": [
    {
     "data": {
      "text/html": [
       "<div>\n",
       "<style scoped>\n",
       "    .dataframe tbody tr th:only-of-type {\n",
       "        vertical-align: middle;\n",
       "    }\n",
       "\n",
       "    .dataframe tbody tr th {\n",
       "        vertical-align: top;\n",
       "    }\n",
       "\n",
       "    .dataframe thead th {\n",
       "        text-align: right;\n",
       "    }\n",
       "</style>\n",
       "<table border=\"1\" class=\"dataframe\">\n",
       "  <thead>\n",
       "    <tr style=\"text-align: right;\">\n",
       "      <th></th>\n",
       "      <th>count</th>\n",
       "    </tr>\n",
       "    <tr>\n",
       "      <th>grouped cls</th>\n",
       "      <th></th>\n",
       "    </tr>\n",
       "  </thead>\n",
       "  <tbody>\n",
       "    <tr>\n",
       "      <th>boat</th>\n",
       "      <td>0.0</td>\n",
       "    </tr>\n",
       "    <tr>\n",
       "      <th>building and facility</th>\n",
       "      <td>303.0</td>\n",
       "    </tr>\n",
       "    <tr>\n",
       "      <th>bus</th>\n",
       "      <td>104.0</td>\n",
       "    </tr>\n",
       "    <tr>\n",
       "      <th>large aircraft</th>\n",
       "      <td>0.0</td>\n",
       "    </tr>\n",
       "    <tr>\n",
       "      <th>small aircraft</th>\n",
       "      <td>0.0</td>\n",
       "    </tr>\n",
       "    <tr>\n",
       "      <th>vehicles</th>\n",
       "      <td>104.0</td>\n",
       "    </tr>\n",
       "  </tbody>\n",
       "</table>\n",
       "</div>"
      ],
      "text/plain": [
       "                       count\n",
       "grouped cls                 \n",
       "boat                     0.0\n",
       "building and facility  303.0\n",
       "bus                    104.0\n",
       "large aircraft           0.0\n",
       "small aircraft           0.0\n",
       "vehicles               104.0"
      ]
     },
     "execution_count": 32,
     "metadata": {},
     "output_type": "execute_result"
    }
   ],
   "source": [
    "temp_df = dfs[1]\n",
    "temp_df['count'] = pd.to_numeric(temp_df['count'])\n",
    "temp_df[['grouped cls','count']].groupby(['grouped cls']).sum()"
   ]
  }
 ],
 "metadata": {
  "kernelspec": {
   "display_name": "Python 3",
   "language": "python",
   "name": "python3"
  },
  "language_info": {
   "codemirror_mode": {
    "name": "ipython",
    "version": 3
   },
   "file_extension": ".py",
   "mimetype": "text/x-python",
   "name": "python",
   "nbconvert_exporter": "python",
   "pygments_lexer": "ipython3",
   "version": "3.6.9"
  }
 },
 "nbformat": 4,
 "nbformat_minor": 4
}
