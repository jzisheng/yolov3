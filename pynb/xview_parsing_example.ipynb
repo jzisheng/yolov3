{
 "cells": [
  {
   "cell_type": "code",
   "execution_count": 1,
   "metadata": {},
   "outputs": [
    {
     "name": "stderr",
     "output_type": "stream",
     "text": [
      "100%|██████████| 601937/601937 [00:03<00:00, 155486.96it/s]\n"
     ]
    }
   ],
   "source": [
    "import sys\n",
    "sys.path.append(\"utils/\")\n",
    "from utils.dataset_utils import *\n",
    "\n",
    "coords1, chips1, classes1 = wv.get_labels('/data/zjc4//xView_train.geojson')\n",
    "\n",
    "# Input desired classes\n",
    "grouped_classes = [[77,73],[11,12],[13],[17,18,20,21],\n",
    "       [19,23,24,25,28,29,60,61,65,26],[41,42,50,40,44,45,47,49]]\n",
    "labels = [\"building and facility\" ,\"small aircraft\", \n",
    "          \"large aircraft\",\"vehicles\",\"bus\",\"boat\"]"
   ]
  },
  {
   "cell_type": "code",
   "execution_count": 7,
   "metadata": {},
   "outputs": [
    {
     "name": "stderr",
     "output_type": "stream",
     "text": [
      "6it [00:00, 1125.18it/s]\n",
      "6it [00:00, 1240.73it/s]\n"
     ]
    },
    {
     "name": "stdout",
     "output_type": "stream",
     "text": [
      "train\n",
      "/data/zjc4/chipped_120/data/xview_img_train.txt\n",
      "valid\n",
      "/data/zjc4/chipped_120/data/xview_img_valid.txt\n",
      "test\n",
      "/data/zjc4/chipped_120/data/xview_img_test.txt\n"
     ]
    }
   ],
   "source": [
    "idxs = range(0,10000)\n",
    "xdataset = XviewDataset(grouped_classes,labels, coords1[idxs],chips1[idxs],classes1[idxs])\n",
    "data_sets = xdataset.splitTrainValidTest(chips1[idxs],classes1[idxs])\n",
    "string_sets = [\"train\",\"valid\",\"test\"]\n",
    "dnf = DarkNetFormatter(output_dir_ = \"/data/zjc4/chipped_120/data/\",\n",
    "                       input_dir_=\"/data/zjc4/\",\n",
    "                       coords_ = coords1[idxs],\n",
    "                       chips_ = chips1[idxs],\n",
    "                       classes_ = classes1[idxs],\n",
    "                       grouped_classes_=grouped_classes)\n",
    "datum = list(zip(string_sets,data_sets))\n",
    "dnf.transformDatum(datum,120)"
   ]
  },
  {
   "cell_type": "code",
   "execution_count": 4,
   "metadata": {},
   "outputs": [
    {
     "name": "stdout",
     "output_type": "stream",
     "text": [
      "train\n",
      "/data/zjc4/chipped_30/data/xview_img_train.txt\n",
      "valid\n",
      "/data/zjc4/chipped_30/data/xview_img_valid.txt\n",
      "test\n",
      "/data/zjc4/chipped_30/data/xview_img_test.txt\n"
     ]
    }
   ],
   "source": [
    "idxs = range(0,10000)\n",
    "xdataset = XviewDataset(grouped_classes,labels, coords1[idxs],chips1[idxs],classes1[idxs])\n",
    "dnf = DarkNetFormatter(output_dir_ = \"/data/zjc4/chipped_30/data/\",\n",
    "                       input_dir_=\"/data/zjc4/\",\n",
    "                       coords_ = coords1[idxs],\n",
    "                       chips_ = chips1[idxs],\n",
    "                       classes_ = classes1[idxs],\n",
    "                       grouped_classes_=grouped_classes)\n",
    "datum = list(zip(string_sets,data_sets))\n",
    "dnf.transformDatum(datum)"
   ]
  },
  {
   "cell_type": "code",
   "execution_count": 9,
   "metadata": {},
   "outputs": [],
   "source": [
    "images = xdataset.showClassExample(class_idx=0)"
   ]
  },
  {
   "cell_type": "code",
   "execution_count": null,
   "metadata": {},
   "outputs": [],
   "source": [
    "\n",
    "\n",
    "images[0]\n",
    "\n"
   ]
  }
 ],
 "metadata": {
  "kernelspec": {
   "display_name": "Python 3",
   "language": "python",
   "name": "python3"
  },
  "language_info": {
   "codemirror_mode": {
    "name": "ipython",
    "version": 3
   },
   "file_extension": ".py",
   "mimetype": "text/x-python",
   "name": "python",
   "nbconvert_exporter": "python",
   "pygments_lexer": "ipython3",
   "version": "3.6.9"
  }
 },
 "nbformat": 4,
 "nbformat_minor": 4
}
