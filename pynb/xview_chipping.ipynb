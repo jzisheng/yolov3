{
 "cells": [
  {
   "cell_type": "raw",
   "metadata": {},
   "source": [
    "parser.add_argument('--data', type=str, default='/data/zjc4/chipped/xview.txt', help='*.data path')\n",
    "\n",
    "Small Aircraft (Fixed-wing Aircraft, Small Aircraft)\n",
    "11\n",
    "12\n",
    "\n",
    "Large Aircraft (Cargo Plane)\n",
    "13\n",
    "\n",
    "Small Vehicle (Passenger Vehicle, Small Car, Pickup Truck, Utility Truck)\n",
    "17\n",
    "18\n",
    "20\n",
    "21\n",
    "\n",
    "Bus/Truck (Bus, Truck, Cargo Truck, Truck w/Box, Truck w/Flatbed, Truck w/Liquid, Dump Truck, Haul Truck, Cement Mixer, Truck Tractor)\n",
    "19\n",
    "23\n",
    "24\n",
    "25\n",
    "28\n",
    "29\n",
    "60\n",
    "61\n",
    "65\n",
    "26\n",
    "\n",
    "Boat (Motorboat, Sailboat, Yacht, Maritime Vessel, Tugboat, Barge, Fishing Vessel, Ferry).\n",
    "41\n",
    "42\n",
    "50\n",
    "40\n",
    "44\n",
    "45\n",
    "47\n",
    "49"
   ]
  },
  {
   "cell_type": "code",
   "execution_count": 17,
   "metadata": {},
   "outputs": [],
   "source": [
    "import pickle\n",
    "import matplotlib.pyplot as plt\n",
    "import matplotlib.image as mpimg\n",
    "import matplotlib.patches as patches\n",
    "import numpy as np\n",
    "\n",
    "import aug_util as aug\n",
    "import wv_util as wv\n",
    "from PIL import Image\n",
    "import csv\n",
    "import tqdm\n",
    "import itertools\n",
    "import glob\n",
    "%matplotlib inline\n",
    "\n",
    "fdir = '/data/zjc4/'\n",
    "chip_dir = \"/data/zjc4/chipped/data/\""
   ]
  },
  {
   "cell_type": "code",
   "execution_count": 4,
   "metadata": {},
   "outputs": [],
   "source": [
    "#Load the class number -> class string label map\n",
    "labels = {}\n",
    "with open('xview_class_labels.txt') as f:\n",
    "    for row in csv.reader(f):\n",
    "        labels[int(row[0].split(\":\")[0])] = row[0].split(\":\")[1]\n",
    "        pass\n",
    "    pass"
   ]
  },
  {
   "cell_type": "code",
   "execution_count": 2,
   "metadata": {},
   "outputs": [],
   "source": [
    "#Loading our labels\n",
    "coords, chips, classes = wv.get_labels(fdir+'xView_train.geojson')"
   ]
  },
  {
   "cell_type": "code",
   "execution_count": 2,
   "metadata": {},
   "outputs": [],
   "source": [
    "\n",
    "all_images = glob.glob(fdir+'train_images/*.tif')"
   ]
  },
  {
   "cell_type": "raw",
   "metadata": {},
   "source": [
    "import numpy as np\n",
    "from PIL import Image\n",
    "import PIL as PIL\n",
    "import tensorflow as tf\n",
    "from PIL import Image, ImageDraw\n",
    "import skimage.filters as filters\n"
   ]
  },
  {
   "cell_type": "code",
   "execution_count": 5,
   "metadata": {},
   "outputs": [],
   "source": [
    "grouped_classes = [[11,12],[13],[17,18,20,21],\\\n",
    "                   [19,23,24,25,28,29,60,61,65,26],[41,42,50,40,44,45,47,49]]\n",
    "def filterClasses(chip_coords,chip_classes,grouped_classes):\n",
    "    filtered_classes = list(itertools.chain.from_iterable(grouped_classes))\n",
    "    mask = (np.isin(chip_classes,filtered_classes))\n",
    "    chip_coords, chip_classes = chip_coords[mask], chip_classes[mask]\n",
    "    \n",
    "    for idx, g_cls in enumerate(grouped_classes):\n",
    "        mask = (np.isin(chip_classes,g_cls))\n",
    "        chip_classes[mask] = idx\n",
    "    return chip_coords,chip_classes\n",
    "    pass\n",
    "\n",
    "def plotDarknetFmt(c_img,x_center,y_center,ws,hs,c_cls,szx,szy):\n",
    "    fig,ax = plt.subplots(1,figsize=(10,10))\n",
    "    ax.imshow(c_img)\n",
    "    for didx in range(c_cls.shape[0]):\n",
    "        x,y = x_center[didx]*szx,y_center[didx]*szy\n",
    "        w,h = ws[didx]*szx,hs[didx]*szy\n",
    "        x1,y1 = x-(w/2), y-(h/2)\n",
    "        w1,h1 = w,h\n",
    "        rect = patches.Rectangle((x1,y1),w1,h1,\\\n",
    "                                 linewidth=1,edgecolor='r',facecolor='none')\n",
    "        ax.add_patch(rect)\n",
    "        pass\n",
    "    plt.show()\n",
    "    pass\n",
    "\n",
    "def toDarknetFmt(c_box,c_cls,c_img,debug=False):\n",
    "    szx,szy,_ = c_img.shape\n",
    "    c_box[:,0],c_box[:,2] = c_box[:,0]/szx,c_box[:,2]/szx\n",
    "    c_box[:,1],c_box[:,3] = c_box[:,1]/szy,c_box[:,3]/szy\n",
    "    xmin,ymin,xmax,ymax = c_box[:,0],c_box[:,1],c_box[:,2],c_box[:,3]\n",
    "    ws,hs = (xmax-xmin), (ymax-ymin)\n",
    "    x_center, y_center = xmin+(ws/2),ymin+(hs/2)\n",
    "    # Visualize using mpl\n",
    "    if debug:\n",
    "        plotDarknetFmt(c_img,x_center,y_center,ws,hs,c_cls,szx,szy)\n",
    "    result = np.vstack((c_cls,x_center,y_center,ws,hs))\n",
    "    return result.T\n",
    "\n",
    "def parseChip(c_img, c_box, c_cls,img_num,c_dir):\n",
    "    # Parses chips, saves chip image, and also saves corresponding labels\n",
    "    fnames = []\n",
    "    for c_idx in range(c_img.shape[0]):\n",
    "        c_name = \"{:06}_{:02}\".format(int(img_num), c_idx)\n",
    "        sbox,scls,simg = \\\n",
    "            c_box[c_idx],c_cls[c_idx],c_img[c_idx]\n",
    "        # Change chip into darknet format, and save\n",
    "        result = toDarknetFmt(sbox,scls,simg)\n",
    "        ff_l = \"{}labels/{}.txt\".format(c_dir,c_name)\n",
    "        np.savetxt(ff_l, result, fmt='%i %1.6f %1.6f %1.6f %1.6f')\n",
    "        # Save image to specified dir\n",
    "        ff_i = \"{}images/{}.jpg\".format(c_dir,c_name)\n",
    "        Image.fromarray(simg).save(ff_i)\n",
    "        # Append file name to list\n",
    "        fnames.append(\"{}images/{}.jpg\".format(c_dir,c_name))\n",
    "        pass\n",
    "    return fnames\n",
    "\n",
    "def exportChipImages(image_paths,c_dir,set_str=\"train\"):\n",
    "    #for img_pth in tqdm.tqdm(image_paths[0:1]):\n",
    "    fnames = []\n",
    "    for img_pth in image_paths:\n",
    "        try:\n",
    "            img_pth = fdir+'train_images/'+img_pth\n",
    "            img_name = img_pth.split(\"/\")[-1]\n",
    "            img_num = img_name.split(\".\")[0]\n",
    "            arr = wv.get_image(img_pth)\n",
    "\n",
    "            chip_coords = coords[chips==img_name]\n",
    "            chip_classes = classes[chips==img_name].astype(np.int64)\n",
    "\n",
    "            chip_coords,chip_classes = \\\n",
    "                filterClasses(chip_coords,chip_classes,grouped_classes)\n",
    "\n",
    "            c_img, c_box, c_cls = wv.chip_image(img=arr, coords=chip_coords, \n",
    "                                                classes=chip_classes, shape=(600,600))\n",
    "\n",
    "            c_fnames = parseChip(c_img, c_box, c_cls, img_num, c_dir)\n",
    "            fnames.extend(c_fnames)\n",
    "        except FileNotFoundError:\n",
    "            pass\n",
    "        pass\n",
    "    lines = sorted(fnames)\n",
    "    print(len(lines))\n",
    "    with open(fdir+\"chipped/xview_img_{}.txt\".format(set_str),\\\n",
    "                mode='w', encoding='utf-8') as myfile:\n",
    "        myfile.write('\\n'.join(lines))\n",
    "    pass"
   ]
  },
  {
   "cell_type": "code",
   "execution_count": 18,
   "metadata": {},
   "outputs": [
    {
     "name": "stdout",
     "output_type": "stream",
     "text": [
      "8889\n",
      "3769\n",
      "5689\n"
     ]
    }
   ],
   "source": [
    "string_sets = [\"train\",\"valid\",\"test\"]\n",
    "data_sets = {}\n",
    "for idx,str_set in enumerate(string_sets):\n",
    "    with open(\"{}_tifs.pkl\".format(str_set),\"rb\") as f:\n",
    "        data_sets[str_set] = pickle.load(f)\n",
    "        pass\n",
    "    exportChipImages(data_sets[str_set],chip_dir,set_str=str_set)\n",
    "    pass"
   ]
  },
  {
   "cell_type": "code",
   "execution_count": 19,
   "metadata": {},
   "outputs": [
    {
     "name": "stdout",
     "output_type": "stream",
     "text": [
      "done\n"
     ]
    }
   ],
   "source": [
    "print(\"done\")"
   ]
  },
  {
   "cell_type": "raw",
   "metadata": {},
   "source": [
    "with open('train_tifs.pkl','rb') as f:\n",
    "    train_tifs= pickle.load(f)\n",
    "\n",
    "#Load the class number -> class string label map\n",
    "labels = {}\n",
    "with open('xview_class_labels.txt') as f:\n",
    "    for row in csv.reader(f):\n",
    "        labels[int(row[0].split(\":\")[0])] = row[0].split(\":\")[1]\n",
    "        pass\n",
    "    pass\n",
    "\n",
    "chip_dir = \"/data/zjc4/chipped/data/\"\n",
    "exportChipImages(train_tifs,chip_dir,set_str=\"train\")\n",
    "\n",
    "exportChipImages(valid_tifs,chip_dir,set_str=\"valid\")\n",
    "\n",
    "len(lines)\n",
    "\n",
    "lines = sorted(glob.glob(cdir+\"images/*\"))\n",
    "with open(fdir+\"chipped/xview_img_valid.txt\", mode='w', encoding='utf-8') as myfile:\n",
    "    myfile.write('\\n'.join(lines))"
   ]
  }
 ],
 "metadata": {
  "kernelspec": {
   "display_name": "Python 3",
   "language": "python",
   "name": "python3"
  },
  "language_info": {
   "codemirror_mode": {
    "name": "ipython",
    "version": 3
   },
   "file_extension": ".py",
   "mimetype": "text/x-python",
   "name": "python",
   "nbconvert_exporter": "python",
   "pygments_lexer": "ipython3",
   "version": "3.6.9"
  }
 },
 "nbformat": 4,
 "nbformat_minor": 4
}
